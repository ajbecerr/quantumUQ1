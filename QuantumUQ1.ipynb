{
 "cells": [
  {
   "cell_type": "code",
   "execution_count": 1,
   "id": "92725389",
   "metadata": {},
   "outputs": [],
   "source": [
    "import numpy as np\n",
    "from qiskit import Aer, execute, QuantumCircuit\n",
    "from qiskit.compiler import transpile\n",
    "from qiskit.quantum_info import Statevector\n",
    "from qiskit.visualization import plot_histogram"
   ]
  },
  {
   "cell_type": "code",
   "execution_count": 2,
   "id": "0229fb77",
   "metadata": {},
   "outputs": [
    {
     "name": "stdout",
     "output_type": "stream",
     "text": [
      "[[0.31392474]\n",
      " [0.40909277]\n",
      " [0.3447844 ]\n",
      " [0.31167657]\n",
      " [0.24233318]\n",
      " [0.36945545]\n",
      " [0.25030261]\n",
      " [0.5100997 ]]\n"
     ]
    }
   ],
   "source": [
    "np.random.seed(0)\n",
    "psi_init = np.random.rand(8)\n",
    "psi_init = psi_init.reshape(-1, 1) / np.linalg.norm(psi_init)\n",
    "print(psi_init)"
   ]
  },
  {
   "cell_type": "code",
   "execution_count": 3,
   "id": "2e7e9a05",
   "metadata": {},
   "outputs": [
    {
     "data": {
      "image/png": "[encoded data removed]",
      "text/plain": [
       "<Figure size 504x360 with 1 Axes>"
      ]
     },
     "execution_count": 3,
     "metadata": {},
     "output_type": "execute_result"
    }
   ],
   "source": [
    "bitstrings = ['000', '001', '010', '011', '100', '101', '110', '111']\n",
    "\n",
    "psi1 = QuantumCircuit(3)\n",
    "psi1.initialize(Statevector(psi_init))\n",
    "psi1.measure_all()\n",
    "\n",
    "shots = 2000\n",
    "sim = Aer.get_backend('aer_simulator')\n",
    "qc_trans = transpile(psi1, sim)\n",
    "counts = sim.run(qc_trans, shots=shots).result().get_counts()\n",
    "probs = {}\n",
    "\n",
    "plot_histogram(counts)"
   ]
  },
  {
   "cell_type": "code",
   "execution_count": 4,
   "id": "d8ab537f",
   "metadata": {},
   "outputs": [
    {
     "name": "stdout",
     "output_type": "stream",
     "text": [
      "0.2899751724319728\n",
      "0.3982444265007875\n",
      "\n",
      "\n",
      "0.0016643993730476485\n",
      "0.005651376761058864\n",
      "\n",
      "\n",
      "-0.0016455016694009858\n"
     ]
    }
   ],
   "source": [
    "for output in bitstrings:\n",
    "    if output in counts:\n",
    "        probs[output] = counts[output]/shots\n",
    "    else:\n",
    "        probs[output] = 0\n",
    "\n",
    "mean_x = 2*np.sum(np.array([np.sqrt(probs[output]) for output in ['000', '010', '100', '110']]))**2\n",
    "mean_y = 2*np.sum(np.array([np.sqrt(probs[output]) for output in ['001', '011', '101', '111']]))**2\n",
    "mean_x = np.sqrt(mean_x/32)\n",
    "mean_y = np.sqrt(mean_y/32)\n",
    "\n",
    "output_pairs_x = [['000', '010'], ['000', '100'], ['000', '110'], ['010', '100'], ['010', '110'], ['100', '110']]\n",
    "output_pairs_y = [['001', '011'], ['001', '101'], ['001', '111'], ['011', '101'], ['011', '111'], ['101', '111']]\n",
    "\n",
    "var_x = (1/2)*(np.sum(np.array([(np.sqrt(probs[output[0]])-np.sqrt(probs[output[1]]))**2 for output in output_pairs_x])))\n",
    "var_y = (1/2)*(np.sum(np.array([(np.sqrt(probs[output[0]])-np.sqrt(probs[output[1]]))**2 for output in output_pairs_y])))\n",
    "var_x = var_x/8\n",
    "var_y = var_y/8\n",
    "\n",
    "cov = 2*(np.sum(np.array([(np.sqrt(probs[output_pairs_x[i][0]])-np.sqrt(probs[output_pairs_x[i][1]]))*(np.sqrt(probs[output_pairs_y[i][0]])-np.sqrt(probs[output_pairs_y[i][1]])) for i in range(6)])))\n",
    "cov = cov/32\n",
    "\n",
    "print(mean_x)\n",
    "print(mean_y)\n",
    "print('\\n')\n",
    "print(var_x)\n",
    "print(var_y)\n",
    "print('\\n')\n",
    "print(cov)"
   ]
  },
  {
   "cell_type": "code",
   "execution_count": null,
   "id": "5c790a37",
   "metadata": {},
   "outputs": [],
   "source": []
  }
 ],
 "metadata": {
  "kernelspec": {
   "display_name": "Python 3",
   "language": "python",
   "name": "python3"
  },
  "language_info": {
   "codemirror_mode": {
    "name": "ipython",
    "version": 3
   },
   "file_extension": ".py",
   "mimetype": "text/x-python",
   "name": "python",
   "nbconvert_exporter": "python",
   "pygments_lexer": "ipython3",
   "version": "3.8.8"
  }
 },
 "nbformat": 4,
 "nbformat_minor": 5
}
