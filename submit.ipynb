{
 "cells": [
  {
   "cell_type": "code",
   "execution_count": 1,
   "id": "ba383b3a-09c7-4fa9-a595-393717837816",
   "metadata": {},
   "outputs": [
    {
     "name": "stderr",
     "output_type": "stream",
     "text": [
      "<frozen importlib._bootstrap>:219: RuntimeWarning: scipy._lib.messagestream.MessageStream size changed, may indicate binary incompatibility. Expected 56 from C header, got 64 from PyObject\n"
     ]
    }
   ],
   "source": [
    "import numpy as np\n",
    "\n",
    "# Importing standard Qiskit libraries\n",
    "from qiskit import QuantumCircuit, transpile, Aer, IBMQ\n",
    "from qiskit.tools.jupyter import *\n",
    "from qiskit.visualization import *\n",
    "from ibm_quantum_widgets import *\n",
    "from qiskit.providers.aer import QasmSimulator\n",
    "from qiskit.quantum_info import Statevector\n",
    "\n",
    "# Loading your IBM Quantum account(s)\n",
    "provider = IBMQ.load_account()"
   ]
  },
  {
   "cell_type": "code",
   "execution_count": 2,
   "id": "9ec6d6ec-c9cc-42b7-96a5-4e7a91a9da1a",
   "metadata": {},
   "outputs": [
    {
     "data": {
      "text/plain": [
       "[<IBMQSimulator('ibmq_qasm_simulator') from IBMQ(hub='ibm-q', group='open', project='main')>,\n",
       " <IBMQBackend('ibmq_lima') from IBMQ(hub='ibm-q', group='open', project='main')>,\n",
       " <IBMQBackend('ibmq_belem') from IBMQ(hub='ibm-q', group='open', project='main')>,\n",
       " <IBMQBackend('ibmq_quito') from IBMQ(hub='ibm-q', group='open', project='main')>,\n",
       " <IBMQSimulator('simulator_statevector') from IBMQ(hub='ibm-q', group='open', project='main')>,\n",
       " <IBMQSimulator('simulator_mps') from IBMQ(hub='ibm-q', group='open', project='main')>,\n",
       " <IBMQSimulator('simulator_extended_stabilizer') from IBMQ(hub='ibm-q', group='open', project='main')>,\n",
       " <IBMQSimulator('simulator_stabilizer') from IBMQ(hub='ibm-q', group='open', project='main')>,\n",
       " <IBMQBackend('ibmq_manila') from IBMQ(hub='ibm-q', group='open', project='main')>,\n",
       " <IBMQBackend('ibm_nairobi') from IBMQ(hub='ibm-q', group='open', project='main')>,\n",
       " <IBMQBackend('ibm_oslo') from IBMQ(hub='ibm-q', group='open', project='main')>]"
      ]
     },
     "execution_count": 2,
     "metadata": {},
     "output_type": "execute_result"
    }
   ],
   "source": [
    "provider.backends()"
   ]
  },
  {
   "cell_type": "code",
   "execution_count": 3,
   "id": "01976d5f-8d62-4c5b-a226-2358e3244e5c",
   "metadata": {},
   "outputs": [
    {
     "data": {
      "application/vnd.jupyter.widget-view+json": {
       "model_id": "2032dc0360fb490d83631b6a25402928",
       "version_major": 2,
       "version_minor": 0
      },
      "text/plain": [
       "VBox(children=(HTML(value=\"<h1 style='color:#ffffff;background-color:#000000;padding-top: 1%;padding-bottom: 1…"
      ]
     },
     "metadata": {},
     "output_type": "display_data"
    },
    {
     "data": {
      "text/plain": [
       "<IBMQBackend('ibm_oslo') from IBMQ(hub='ibm-q', group='open', project='main')>"
      ]
     },
     "execution_count": 3,
     "metadata": {},
     "output_type": "execute_result"
    }
   ],
   "source": [
    "backend = provider.get_backend('ibm_oslo')\n",
    "backend"
   ]
  },
  {
   "cell_type": "code",
   "execution_count": 4,
   "id": "8bb812a9-f39a-414b-b5d0-18e819f98ee3",
   "metadata": {},
   "outputs": [
    {
     "name": "stdout",
     "output_type": "stream",
     "text": [
      "[[0.31392474]\n",
      " [0.40909277]\n",
      " [0.3447844 ]\n",
      " [0.31167657]\n",
      " [0.24233318]\n",
      " [0.36945545]\n",
      " [0.25030261]\n",
      " [0.5100997 ]]\n"
     ]
    }
   ],
   "source": [
    "np.random.seed(0)\n",
    "psi_init = np.random.rand(8)\n",
    "psi_init = psi_init.reshape(-1, 1) / np.linalg.norm(psi_init)\n",
    "print(psi_init)"
   ]
  },
  {
   "cell_type": "code",
   "execution_count": null,
   "id": "3215b79c-5ed3-4a51-9e00-a37a9aa5acc7",
   "metadata": {},
   "outputs": [],
   "source": [
    "bitstrings = ['000', '001', '010', '011', '100', '101', '110', '111']\n",
    "\n",
    "psi1 = QuantumCircuit(3)\n",
    "psi1.initialize(Statevector(psi_init))\n",
    "psi1.measure_all()\n",
    "\n",
    "shots = 2000\n",
    "# backend = Aer.get_backend('ibm_oslo')\n",
    "qc_trans = transpile(psi1, backend)\n",
    "counts = backend.run(qc_trans, shots=shots).result().get_counts()\n",
    "# probs = {}\n",
    "\n",
    "# plot_histogram(counts)"
   ]
  },
  {
   "cell_type": "code",
   "execution_count": null,
   "id": "1fcb39f3-6be6-4515-bbc5-707d644bb619",
   "metadata": {},
   "outputs": [],
   "source": []
  }
 ],
 "metadata": {
  "kernelspec": {
   "display_name": "Python 3 (ipykernel)",
   "language": "python",
   "name": "python3"
  },
  "language_info": {
   "codemirror_mode": {
    "name": "ipython",
    "version": 3
   },
   "file_extension": ".py",
   "mimetype": "text/x-python",
   "name": "python",
   "nbconvert_exporter": "python",
   "pygments_lexer": "ipython3",
   "version": "3.8.13"
  },
  "widgets": {
   "application/vnd.jupyter.widget-state+json": {
    "state": {
     "00d4c8466e9d4766b5d083956032e80e": {
      "model_module": "@jupyter-widgets/controls",
      "model_module_version": "1.5.0",
      "model_name": "DescriptionStyleModel",
      "state": {
       "description_width": ""
      }
     },
     "042841ca5ddb4c16953594be954c75cd": {
      "model_module": "@jupyter-widgets/base",
      "model_module_version": "1.2.0",
      "model_name": "LayoutModel",
      "state": {
       "grid_area": "top"
      }
     },
     "06dee5e07e15440394e7412ad4ab7ddc": {
      "model_module": "@jupyter-widgets/base",
      "model_module_version": "1.2.0",
      "model_name": "LayoutModel",
      "state": {
       "margin": "0px 0px 0px 0px"
      }
     },
     "0eb5d1b5cc25456fa981f7933e22500d": {
      "model_module": "@jupyter-widgets/base",
      "model_module_version": "1.2.0",
      "model_name": "LayoutModel",
      "state": {
       "max_width": "700px",
       "min_width": "700px"
      }
     },
     "0f0ce9fcc3f64677868613afdc480e99": {
      "model_module": "@jupyter-widgets/base",
      "model_module_version": "1.2.0",
      "model_name": "LayoutModel",
      "state": {
       "align_items": "center",
       "display": "flex-inline",
       "grid_area": "right",
       "max_height": "325px",
       "padding": "10px 10px 10px 10px",
       "width": "auto"
      }
     },
     "109f131c6b4b4c3492dcb3d2cf27f0ee": {
      "model_module": "@jupyter-widgets/base",
      "model_module_version": "1.2.0",
      "model_name": "LayoutModel",
      "state": {
       "margin": "0px 0px 10px 0px"
      }
     },
     "157b43b526904eb9a10e63ad0cc9f264": {
      "model_module": "@jupyter-widgets/base",
      "model_module_version": "1.2.0",
      "model_name": "LayoutModel",
      "state": {
       "grid_area": "left",
       "width": "100%"
      }
     },
     "172fdeacc05d46deaaad521184ec9e63": {
      "model_module": "@jupyter-widgets/controls",
      "model_module_version": "1.5.0",
      "model_name": "DescriptionStyleModel",
      "state": {
       "description_width": ""
      }
     },
     "1af81de9688a439abd45e44d3542d86c": {
      "model_module": "@jupyter-widgets/base",
      "model_module_version": "1.2.0",
      "model_name": "LayoutModel",
      "state": {}
     },
     "1ff4114426234be5a8bc1a74bdfa78b0": {
      "model_module": "@jupyter-widgets/base",
      "model_module_version": "1.2.0",
      "model_name": "LayoutModel",
      "state": {
       "max_height": "620px"
      }
     },
     "202404a39a584a6e8b64dd53984eac9c": {
      "model_module": "@jupyter-widgets/controls",
      "model_module_version": "1.5.0",
      "model_name": "HBoxModel",
      "state": {
       "children": [
        "IPY_MODEL_e46efe18c18d4efaa18f9c5660b859cc",
        "IPY_MODEL_8fb68b885fb24987a2b168c5b6d926ee",
        "IPY_MODEL_fa49775ce17f4de680bfb3f0bd955f04",
        "IPY_MODEL_dbfa2a212b8b46a39fe6cc62e07538c6",
        "IPY_MODEL_4e92a2bbf80c44bba19bdd6719e87443"
       ],
       "layout": "IPY_MODEL_4f1bddc0baa34e4c9852bdc3be40b70e"
      }
     },
     "2032dc0360fb490d83631b6a25402928": {
      "model_module": "@jupyter-widgets/controls",
      "model_module_version": "1.5.0",
      "model_name": "VBoxModel",
      "state": {
       "children": [
        "IPY_MODEL_aebf118ffee84e31b2a9b05c10a46a24",
        "IPY_MODEL_790b3e29aeb4451d912284a554c736ff"
       ],
       "layout": "IPY_MODEL_6476e4b4592849189b89b1ce38c6c652"
      }
     },
     "24031695b74e4a5eb8c75b98f724969a": {
      "model_module": "@jupyter-widgets/base",
      "model_module_version": "1.2.0",
      "model_name": "LayoutModel",
      "state": {}
     },
     "257a6e4728994bc499dda09ca4c1bf60": {
      "model_module": "@jupyter-widgets/base",
      "model_module_version": "1.2.0",
      "model_name": "LayoutModel",
      "state": {
       "grid_area": "right"
      }
     },
     "28717d056f8f441d8834b03e24b81448": {
      "model_module": "@jupyter-widgets/controls",
      "model_module_version": "1.5.0",
      "model_name": "DescriptionStyleModel",
      "state": {
       "description_width": ""
      }
     },
     "2ac87cad178b489b80639374a12affd8": {
      "model_module": "@jupyter-widgets/base",
      "model_module_version": "1.2.0",
      "model_name": "LayoutModel",
      "state": {
       "width": "145px"
      }
     },
     "2d35035df6844807957f849eca96f4dd": {
      "model_module": "@jupyter-widgets/controls",
      "model_module_version": "1.5.0",
      "model_name": "DescriptionStyleModel",
      "state": {
       "description_width": ""
      }
     },
     "2d8fda47ce2b4116a2f2873b80e57bfd": {
      "model_module": "@jupyter-widgets/controls",
      "model_module_version": "1.5.0",
      "model_name": "HTMLModel",
      "state": {
       "layout": "IPY_MODEL_109f131c6b4b4c3492dcb3d2cf27f0ee",
       "style": "IPY_MODEL_7147d7b54baa464fb0e33f3f32daf5a9",
       "value": "<p style='font-family: IBM Plex Sans, Arial, Helvetica, sans-serif; font-size: 20px; font-weight: medium;'>Circuit Properties</p>"
      }
     },
     "329b58cfb73c4051a56e679b7599a822": {
      "model_module": "@jupyter-widgets/controls",
      "model_module_version": "1.5.0",
      "model_name": "DescriptionStyleModel",
      "state": {
       "description_width": ""
      }
     },
     "33d4d29a5a014112a7e311e8b00c9990": {
      "model_module": "@jupyter-widgets/controls",
      "model_module_version": "1.5.0",
      "model_name": "DescriptionStyleModel",
      "state": {
       "description_width": ""
      }
     },
     "35323b5c1be04306ad40d8ee962aec06": {
      "model_module": "@jupyter-widgets/controls",
      "model_module_version": "1.5.0",
      "model_name": "VBoxModel",
      "state": {
       "children": [
        "IPY_MODEL_958f8b49790941f4b497c4631ca5dc33",
        "IPY_MODEL_79362f43eb7f40b09d4aa4903cde185d"
       ],
       "layout": "IPY_MODEL_24031695b74e4a5eb8c75b98f724969a"
      }
     },
     "35dc5aab34da400c8362104c8dce6594": {
      "model_module": "@jupyter-widgets/base",
      "model_module_version": "1.2.0",
      "model_name": "LayoutModel",
      "state": {
       "grid_area": "left"
      }
     },
     "3b5626a6e9c841df8242c3547e9e07cd": {
      "model_module": "@jupyter-widgets/controls",
      "model_module_version": "1.5.0",
      "model_name": "DescriptionStyleModel",
      "state": {
       "description_width": ""
      }
     },
     "3ed11d08aeb5496280c4e6501b64cb9b": {
      "model_module": "@jupyter-widgets/controls",
      "model_module_version": "1.5.0",
      "model_name": "HTMLMathModel",
      "state": {
       "layout": "IPY_MODEL_bfc76f2ec8834c7e9a88d50bc7a70f2b",
       "style": "IPY_MODEL_3b5626a6e9c841df8242c3547e9e07cd",
       "value": "<table><style>\ntable {\n    border-collapse: collapse;\n    width: auto;\n}\n\nth, td {\n    text-align: left;\n    padding: 8px;\n}\n\ntr:nth-child(even) {background-color: #f6f6f6;}\n</style><tr><th></th><th></th></tr><tr><td>live_data</td><td>False</td></tr><tr><td>memory</td><td>True</td></tr><tr><td>pulse_num_qubits</td><td>3</td></tr><tr><td>dt</td><td>0.2222222222222222</td></tr><tr><td>allow_object_storage</td><td>True</td></tr><tr><td>parallel_compilation</td><td>False</td></tr><tr><td>parametric_pulses</td><td>['gaussian', 'gaussian_square', 'drag', 'constant']</td></tr><tr><td>pulse_num_channels</td><td>9</td></tr><tr><td>meas_map</td><td>[[0, 1, 2, 3, 4, 5, 6]]</td></tr><tr><td>hamiltonian</td><td>$$\\begin{align} \\mathcal{H}/\\hbar = & \\sum_{i=0}^{6}\\left(\\frac{\\omega_{q,i}}{2}(\\mathbb{I}-\\sigma_i^{z})+\\frac{\\Delta_{i}}{2}(O_i^2-O_i)+\\Omega_{d,i}D_i(t)\\sigma_i^{X}\\right) \\\\ & + J_{0,1}(\\sigma_{0}^{+}\\sigma_{1}^{-}+\\sigma_{0}^{-}\\sigma_{1}^{+}) + J_{1,2}(\\sigma_{1}^{+}\\sigma_{2}^{-}+\\sigma_{1}^{-}\\sigma_{2}^{+}) + J_{4,5}(\\sigma_{4}^{+}\\sigma_{5}^{-}+\\sigma_{4}^{-}\\sigma_{5}^{+}) + J_{5,6}(\\sigma_{5}^{+}\\sigma_{6}^{-}+\\sigma_{5}^{-}\\sigma_{6}^{+}) \\\\ & + J_{1,3}(\\sigma_{1}^{+}\\sigma_{3}^{-}+\\sigma_{1}^{-}\\sigma_{3}^{+}) + J_{3,5}(\\sigma_{3}^{+}\\sigma_{5}^{-}+\\sigma_{3}^{-}\\sigma_{5}^{+}) \\\\ & + \\Omega_{d,0}(U_{0}^{(0,1)}(t))\\sigma_{0}^{X} + \\Omega_{d,1}(U_{1}^{(1,0)}(t)+U_{3}^{(1,3)}(t)+U_{2}^{(1,2)}(t))\\sigma_{1}^{X} \\\\ & + \\Omega_{d,2}(U_{4}^{(2,1)}(t))\\sigma_{2}^{X} + \\Omega_{d,3}(U_{5}^{(3,1)}(t)+U_{6}^{(3,5)}(t))\\sigma_{3}^{X} \\\\ & + \\Omega_{d,4}(U_{7}^{(4,5)}(t))\\sigma_{4}^{X} + \\Omega_{d,5}(U_{8}^{(5,3)}(t)+U_{10}^{(5,6)}(t)+U_{9}^{(5,4)}(t))\\sigma_{5}^{X} \\\\ & + \\Omega_{d,6}(U_{11}^{(6,5)}(t))\\sigma_{6}^{X} \\\\ \\end{align}$$</td></tr><tr><td>rep_delay_range</td><td>[0.0, 500.0]</td></tr><tr><td>online_date</td><td>2022-03-25 04:00:00+00:00</td></tr><tr><td>measure_esp_enabled</td><td>False</td></tr><tr><td>backend_name</td><td>ibm_oslo</td></tr><tr><td>processor_type</td><td>{'family': 'Falcon', 'revision': '5.11', 'segment': 'H'}</td></tr><tr><td>conditional_latency</td><td>[]</td></tr><tr><td>n_uchannels</td><td>12</td></tr><tr><td>default_rep_delay</td><td>250.0</td></tr><tr><td>sample_name</td><td>family: Falcon, revision: 5.11, segment: H</td></tr><tr><td>coupling_map</td><td>[[0, 1], [1, 0], [1, 2], [1, 3], [2, 1], [3, 1], [3, 5], [4, 5], [5, 3], [5, 4], [5, 6], [6, 5]]</td></tr><tr><td>supported_features</td><td>['qobj']</td></tr><tr><td>acquisition_latency</td><td>[]</td></tr><tr><td>uchannels_enabled</td><td>True</td></tr><tr><td>multi_meas_enabled</td><td>True</td></tr><tr><td>rep_times</td><td>[1000.0]</td></tr><tr><td>n_registers</td><td>1</td></tr><tr><td>simulator</td><td>False</td></tr><tr><td>input_allowed</td><td>['job', 'runtime']</td></tr><tr><td>dynamic_reprate_enabled</td><td>True</td></tr><tr><td>allow_q_object</td><td>True</td></tr><tr><td>meas_kernels</td><td>['hw_qmfk']</td></tr><tr><td>supported_instructions</td><td>['measure', 'acquire', 'u2', 'rz', 'x', 'sx', 'play', 'reset', 'shiftf', 'delay', 'id', 'cx', 'u1', 'setf', 'u3']</td></tr><tr><td>qubit_channel_mapping</td><td>[['d0', 'u0', 'm0', 'u1'], ['u5', 'm1', 'u2', 'u4', 'u0', 'u1', 'd1', 'u3'], ['m2', 'u2', 'u4', 'd2'], ['d3', 'u5', 'u8', 'm3', 'u6', 'u3'], ['d4', 'u9', 'm4', 'u7'], ['d5', 'm5', 'u7', 'u8', 'u9', 'u10', 'u11', 'u6'], ['u10', 'u11', 'd6', 'm6']]</td></tr><tr><td>local</td><td>False</td></tr><tr><td>qubit_lo_range</td><td>[[4.425040273110692, 5.425040273110692], [4.546439029102355, 5.546439029102355], [4.462011692428523, 5.462011692428524], [4.608255555955125, 5.608255555955125], [4.511213977101982, 5.511213977101982], [4.673328959090268, 5.673328959090268], [4.8193736664586915, 5.819373666458692]]</td></tr><tr><td>meas_levels</td><td>[1, 2]</td></tr><tr><td>conditional</td><td>False</td></tr><tr><td>clops</td><td>2645</td></tr><tr><td>dtm</td><td>0.2222222222222222</td></tr><tr><td>timing_constraints</td><td>{'acquire_alignment': 16, 'granularity': 16, 'min_length': 64, 'pulse_alignment': 16}</td></tr><tr><td>credits_required</td><td>True</td></tr><tr><td>meas_lo_range</td><td>[[6.730336446000001, 7.730336446000001], [6.604991057, 7.604991057], [6.830633187, 7.830633187], [6.632327716000001, 7.632327716000001], [6.713651857, 7.713651857], [6.812390622000001, 7.812390622000001], [6.7878388140000006, 7.7878388140000006]]</td></tr><tr><td>channels</td><td>{'acquire0': {'operates': {'qubits': [0]}, 'purpose': 'acquire', 'type': 'acquire'}, 'acquire1': {'operates': {'qubits': [1]}, 'purpose': 'acquire', 'type': 'acquire'}, 'acquire2': {'operates': {'qubits': [2]}, 'purpose': 'acquire', 'type': 'acquire'}, 'acquire3': {'operates': {'qubits': [3]}, 'purpose': 'acquire', 'type': 'acquire'}, 'acquire4': {'operates': {'qubits': [4]}, 'purpose': 'acquire', 'type': 'acquire'}, 'acquire5': {'operates': {'qubits': [5]}, 'purpose': 'acquire', 'type': 'acquire'}, 'acquire6': {'operates': {'qubits': [6]}, 'purpose': 'acquire', 'type': 'acquire'}, 'd0': {'operates': {'qubits': [0]}, 'purpose': 'drive', 'type': 'drive'}, 'd1': {'operates': {'qubits': [1]}, 'purpose': 'drive', 'type': 'drive'}, 'd2': {'operates': {'qubits': [2]}, 'purpose': 'drive', 'type': 'drive'}, 'd3': {'operates': {'qubits': [3]}, 'purpose': 'drive', 'type': 'drive'}, 'd4': {'operates': {'qubits': [4]}, 'purpose': 'drive', 'type': 'drive'}, 'd5': {'operates': {'qubits': [5]}, 'purpose': 'drive', 'type': 'drive'}, 'd6': {'operates': {'qubits': [6]}, 'purpose': 'drive', 'type': 'drive'}, 'm0': {'operates': {'qubits': [0]}, 'purpose': 'measure', 'type': 'measure'}, 'm1': {'operates': {'qubits': [1]}, 'purpose': 'measure', 'type': 'measure'}, 'm2': {'operates': {'qubits': [2]}, 'purpose': 'measure', 'type': 'measure'}, 'm3': {'operates': {'qubits': [3]}, 'purpose': 'measure', 'type': 'measure'}, 'm4': {'operates': {'qubits': [4]}, 'purpose': 'measure', 'type': 'measure'}, 'm5': {'operates': {'qubits': [5]}, 'purpose': 'measure', 'type': 'measure'}, 'm6': {'operates': {'qubits': [6]}, 'purpose': 'measure', 'type': 'measure'}, 'u0': {'operates': {'qubits': [0, 1]}, 'purpose': 'cross-resonance', 'type': 'control'}, 'u1': {'operates': {'qubits': [1, 0]}, 'purpose': 'cross-resonance', 'type': 'control'}, 'u10': {'operates': {'qubits': [5, 6]}, 'purpose': 'cross-resonance', 'type': 'control'}, 'u11': {'operates': {'qubits': [6, 5]}, 'purpose': 'cross-resonance', 'type': 'control'}, 'u2': {'operates': {'qubits': [1, 2]}, 'purpose': 'cross-resonance', 'type': 'control'}, 'u3': {'operates': {'qubits': [1, 3]}, 'purpose': 'cross-resonance', 'type': 'control'}, 'u4': {'operates': {'qubits': [2, 1]}, 'purpose': 'cross-resonance', 'type': 'control'}, 'u5': {'operates': {'qubits': [3, 1]}, 'purpose': 'cross-resonance', 'type': 'control'}, 'u6': {'operates': {'qubits': [3, 5]}, 'purpose': 'cross-resonance', 'type': 'control'}, 'u7': {'operates': {'qubits': [4, 5]}, 'purpose': 'cross-resonance', 'type': 'control'}, 'u8': {'operates': {'qubits': [5, 3]}, 'purpose': 'cross-resonance', 'type': 'control'}, 'u9': {'operates': {'qubits': [5, 4]}, 'purpose': 'cross-resonance', 'type': 'control'}}</td></tr><tr><td>u_channel_lo</td><td>[[{'q': 1, 'scale': (1+0j)}], [{'q': 0, 'scale': (1+0j)}], [{'q': 2, 'scale': (1+0j)}], [{'q': 3, 'scale': (1+0j)}], [{'q': 1, 'scale': (1+0j)}], [{'q': 1, 'scale': (1+0j)}], [{'q': 5, 'scale': (1+0j)}], [{'q': 5, 'scale': (1+0j)}], [{'q': 3, 'scale': (1+0j)}], [{'q': 4, 'scale': (1+0j)}], [{'q': 6, 'scale': (1+0j)}], [{'q': 5, 'scale': (1+0j)}]]</td></tr><tr><td>discriminators</td><td>['linear_discriminator', 'quadratic_discriminator', 'hw_qmfk']</td></tr><tr><td>description</td><td>7 qubit device</td></tr><tr><td>url</td><td>None</td></tr><tr><td>open_pulse</td><td>False</td></tr></table>"
      }
     },
     "44cd3c23647044fb84a9545bb906f0da": {
      "model_module": "@jupyter-widgets/base",
      "model_module_version": "1.2.0",
      "model_name": "LayoutModel",
      "state": {
       "grid_area": "right",
       "padding": "0px 0px 0px 0px",
       "width": "70px"
      }
     },
     "454f1ae6bc364a0e913271d7cb9f45a9": {
      "model_module": "@jupyter-widgets/controls",
      "model_module_version": "1.5.0",
      "model_name": "DescriptionStyleModel",
      "state": {
       "description_width": ""
      }
     },
     "4b696bf8650f4a7388afe95b2ebb7cd0": {
      "model_module": "@jupyter-widgets/controls",
      "model_module_version": "1.5.0",
      "model_name": "DescriptionStyleModel",
      "state": {
       "description_width": ""
      }
     },
     "4e92a2bbf80c44bba19bdd6719e87443": {
      "model_module": "@jupyter-widgets/controls",
      "model_module_version": "1.5.0",
      "model_name": "HTMLModel",
      "state": {
       "layout": "IPY_MODEL_d5ca87a1bf39471087a80f7777b6f116",
       "style": "IPY_MODEL_00d4c8466e9d4766b5d083956032e80e",
       "value": "<h5>Message</h5>"
      }
     },
     "4f1bddc0baa34e4c9852bdc3be40b70e": {
      "model_module": "@jupyter-widgets/base",
      "model_module_version": "1.2.0",
      "model_name": "LayoutModel",
      "state": {
       "margin": "0px 0px 0px 37px",
       "width": "600px"
      }
     },
     "523da146b15549418c0f1e686af2e60b": {
      "model_module": "@jupyter-widgets/controls",
      "model_module_version": "1.5.0",
      "model_name": "DescriptionStyleModel",
      "state": {
       "description_width": ""
      }
     },
     "5657d8b2af3047cf9f95cb0064b8a5d3": {
      "model_module": "@jupyter-widgets/controls",
      "model_module_version": "1.5.0",
      "model_name": "DescriptionStyleModel",
      "state": {
       "description_width": ""
      }
     },
     "5a12730d3f064d6aacc584769696698d": {
      "model_module": "@jupyter-widgets/controls",
      "model_module_version": "1.5.0",
      "model_name": "HTMLModel",
      "state": {
       "layout": "IPY_MODEL_952b242794f444d485e9b4f085186c22",
       "style": "IPY_MODEL_88d4e5f515cd48318f85a39c654c750e",
       "value": "635eabda4b9702a3fc4b5d47"
      }
     },
     "6476e4b4592849189b89b1ce38c6c652": {
      "model_module": "@jupyter-widgets/base",
      "model_module_version": "1.2.0",
      "model_name": "LayoutModel",
      "state": {
       "border": "4px solid #000000",
       "max_height": "650px",
       "min_height": "650px",
       "overflow_y": "hidden"
      }
     },
     "69535c2b7fd44f49b5e7f8d281a582b7": {
      "model_module": "@jupyter-widgets/controls",
      "model_module_version": "1.5.0",
      "model_name": "DescriptionStyleModel",
      "state": {
       "description_width": ""
      }
     },
     "704a215d1e3947908c7df297e56bcd61": {
      "model_module": "@jupyter-widgets/base",
      "model_module_version": "1.2.0",
      "model_name": "LayoutModel",
      "state": {
       "grid_gap": "0px 0px",
       "grid_template_areas": "\n                               \"left right right right\"\n                               \"bottom bottom bottom bottom\"\n                               ",
       "grid_template_columns": "31% 23% 23% 23%",
       "grid_template_rows": "auto auto"
      }
     },
     "7126c197776f482792dcad9bc4f016d6": {
      "model_module": "@jupyter-widgets/controls",
      "model_module_version": "1.5.0",
      "model_name": "HBoxModel",
      "state": {
       "children": [
        "IPY_MODEL_9a24ef4a6568489180918e9f69c504ba",
        "IPY_MODEL_5a12730d3f064d6aacc584769696698d",
        "IPY_MODEL_daa3ac129db1417ba26d60f233d3b866",
        "IPY_MODEL_ceab68b8f6f84be9a996342f18820a66",
        "IPY_MODEL_f6705a908079458cb1fffd979e6b665c",
        "IPY_MODEL_f3d67876146a4220a402d87f44d3da67"
       ],
       "layout": "IPY_MODEL_0eb5d1b5cc25456fa981f7933e22500d"
      }
     },
     "7147d7b54baa464fb0e33f3f32daf5a9": {
      "model_module": "@jupyter-widgets/controls",
      "model_module_version": "1.5.0",
      "model_name": "DescriptionStyleModel",
      "state": {
       "description_width": ""
      }
     },
     "786566b5ef0f42feb7a2305caec77435": {
      "model_module": "@jupyter-widgets/controls",
      "model_module_version": "1.5.0",
      "model_name": "DescriptionStyleModel",
      "state": {
       "description_width": ""
      }
     },
     "790b3e29aeb4451d912284a554c736ff": {
      "model_module": "@jupyter-widgets/controls",
      "model_module_version": "1.5.0",
      "model_name": "TabModel",
      "state": {
       "_titles": {
        "0": "Configuration",
        "1": "Qubit Properties",
        "2": "Multi-Qubit Gates",
        "3": "Error Map",
        "4": "Job History"
       },
       "children": [
        "IPY_MODEL_e7227104bfb54337a2862cbba8633a37",
        "IPY_MODEL_35323b5c1be04306ad40d8ee962aec06",
        "IPY_MODEL_ad22ee3042c0472ca3578f12b6cda870",
        "IPY_MODEL_cfd01fda1e7147b6a0f84216e8b3ef15",
        "IPY_MODEL_d96e2fc7d4dc40d49e85f59afb6218de"
       ],
       "layout": "IPY_MODEL_c759943200a0412696a6f82859fb89a3"
      }
     },
     "79362f43eb7f40b09d4aa4903cde185d": {
      "model_module": "@jupyter-widgets/controls",
      "model_module_version": "1.5.0",
      "model_name": "HTMLModel",
      "state": {
       "layout": "IPY_MODEL_1af81de9688a439abd45e44d3542d86c",
       "style": "IPY_MODEL_2d35035df6844807957f849eca96f4dd",
       "value": "<table><style>\ntable {\n    border-collapse: collapse;\n    width: auto;\n}\n\nth, td {\n    text-align: left;\n    padding: 8px;\n}\n\ntr:nth-child(even) {background-color: #f6f6f6;}\n</style><tr><th></th><th>Frequency</th><th>T1</th><th>T2</th><th>RZ</th><th>SX</th><th>X</th><th>Readout error</th></tr><tr><td><font style='font-weight:bold'>Q0</font></td><td>4.92504 GHz</td><td>181.77159 us</td><td>138.48268 us</td><td>0</td><td>0.00021</td><td>0.00021</td><td>0.011 </td><tr><td><font style='font-weight:bold'>Q1</font></td><td>5.04644 GHz</td><td>188.9591 us</td><td>31.92551 us</td><td>0</td><td>0.0003</td><td>0.0003</td><td>0.0192 </td><tr><td><font style='font-weight:bold'>Q2</font></td><td>4.96201 GHz</td><td>71.74704 us</td><td>43.765 us</td><td>0</td><td>0.00038</td><td>0.00038</td><td>0.0071 </td><tr><td><font style='font-weight:bold'>Q3</font></td><td>5.10826 GHz</td><td>80.29614 us</td><td>35.20276 us</td><td>0</td><td>0.00089</td><td>0.00089</td><td>0.0225 </td><tr><td><font style='font-weight:bold'>Q4</font></td><td>5.01121 GHz</td><td>86.50455 us</td><td>183.13783 us</td><td>0</td><td>0.0082</td><td>0.0082</td><td>0.0495 </td><tr><td><font style='font-weight:bold'>Q5</font></td><td>5.17333 GHz</td><td>144.4297 us</td><td>29.22191 us</td><td>0</td><td>0.00033</td><td>0.00033</td><td>0.0103 </td><tr><td><font style='font-weight:bold'>Q6</font></td><td>5.31937 GHz</td><td>55.60959 us</td><td>95.53155 us</td><td>0</td><td>0.00021</td><td>0.00021</td><td>0.0298 </td></table>"
      }
     },
     "79de043162c44d9b8b7bb11cc8c059e7": {
      "model_module": "@jupyter-widgets/controls",
      "model_module_version": "1.5.0",
      "model_name": "GridBoxModel",
      "state": {
       "children": [
        "IPY_MODEL_d8e61a45f46d4de3b56c2347cda45a14"
       ],
       "layout": "IPY_MODEL_f545b00199974752802e94755d6a9296"
      }
     },
     "7b965c7d19fc44599c80f82b934491f5": {
      "model_module": "@jupyter-widgets/base",
      "model_module_version": "1.2.0",
      "model_name": "LayoutModel",
      "state": {
       "overflow_x": "scroll"
      }
     },
     "7d62a753761a416280fb10ff3bc45e4f": {
      "model_module": "@jupyter-widgets/controls",
      "model_module_version": "1.5.0",
      "model_name": "DescriptionStyleModel",
      "state": {
       "description_width": ""
      }
     },
     "80bdb64166c84dbf8a26d67335e3f6ef": {
      "model_module": "@jupyter-widgets/controls",
      "model_module_version": "1.5.0",
      "model_name": "HTMLModel",
      "state": {
       "layout": "IPY_MODEL_c40d663867914986b07a31a694249563",
       "style": "IPY_MODEL_454f1ae6bc364a0e913271d7cb9f45a9",
       "value": "<table><style>\ntable {\n    border-collapse: collapse;\n    width: auto;\n}\n\nth, td {\n    text-align: left;\n    padding: 8px;\n}\n\ntr:nth-child(even) {background-color: #f6f6f6;};\n</style><tr><th></th><th>Type</th><th>Gate error</th></tr><tr><td><font style='font-weight:bold'>cx1_3</font></td><td>cx</td><td>0.00835</td></tr><tr><td><font style='font-weight:bold'>cx3_1</font></td><td>cx</td><td>0.00835</td></tr><tr><td><font style='font-weight:bold'>cx5_3</font></td><td>cx</td><td>0.00537</td></tr><tr><td><font style='font-weight:bold'>cx3_5</font></td><td>cx</td><td>0.00537</td></tr></table>"
      }
     },
     "85dd424382df4373b1a80a14eab94aa3": {
      "model_module": "@jupyter-widgets/controls",
      "model_module_version": "1.5.0",
      "model_name": "DescriptionStyleModel",
      "state": {
       "description_width": ""
      }
     },
     "88d4e5f515cd48318f85a39c654c750e": {
      "model_module": "@jupyter-widgets/controls",
      "model_module_version": "1.5.0",
      "model_name": "DescriptionStyleModel",
      "state": {
       "description_width": ""
      }
     },
     "8bcab4491d1248bca4cda6f208b6c76e": {
      "model_module": "@jupyter-widgets/base",
      "model_module_version": "1.2.0",
      "model_name": "LayoutModel",
      "state": {
       "margin": "0px 5px 0px 0px",
       "width": "32px"
      }
     },
     "8e34ae43442846989f268a15f1340ac4": {
      "model_module": "@jupyter-widgets/base",
      "model_module_version": "1.2.0",
      "model_name": "LayoutModel",
      "state": {
       "width": "145px"
      }
     },
     "8e9105ac276c438db6f4932556bfeb89": {
      "model_module": "@jupyter-widgets/controls",
      "model_module_version": "1.5.0",
      "model_name": "DescriptionStyleModel",
      "state": {
       "description_width": ""
      }
     },
     "8fb68b885fb24987a2b168c5b6d926ee": {
      "model_module": "@jupyter-widgets/controls",
      "model_module_version": "1.5.0",
      "model_name": "HTMLModel",
      "state": {
       "layout": "IPY_MODEL_2ac87cad178b489b80639374a12affd8",
       "style": "IPY_MODEL_5657d8b2af3047cf9f95cb0064b8a5d3",
       "value": "<h5>Backend</h5>"
      }
     },
     "952b242794f444d485e9b4f085186c22": {
      "model_module": "@jupyter-widgets/base",
      "model_module_version": "1.2.0",
      "model_name": "LayoutModel",
      "state": {
       "width": "190px"
      }
     },
     "958f8b49790941f4b497c4631ca5dc33": {
      "model_module": "@jupyter-widgets/controls",
      "model_module_version": "1.5.0",
      "model_name": "HTMLModel",
      "state": {
       "layout": "IPY_MODEL_fe54fa0e75164f858795aaf3730c364b",
       "style": "IPY_MODEL_7d62a753761a416280fb10ff3bc45e4f",
       "value": "<div><font style='font-weight:bold'>last_update_date</font>: Sun 30 October 2022 at 16:34 UTC</div>"
      }
     },
     "9a24ef4a6568489180918e9f69c504ba": {
      "model_module": "@jupyter-widgets/controls",
      "model_module_version": "1.5.0",
      "model_name": "ButtonModel",
      "state": {
       "icon": "close",
       "layout": "IPY_MODEL_8bcab4491d1248bca4cda6f208b6c76e",
       "style": "IPY_MODEL_fff339de6b3b4137bfc2cdb886676d33"
      }
     },
     "9b86f2116f6642d793bf582a92ffe79d": {
      "model_module": "@jupyter-widgets/controls",
      "model_module_version": "1.5.0",
      "model_name": "HTMLModel",
      "state": {
       "layout": "IPY_MODEL_042841ca5ddb4c16953594be954c75cd",
       "style": "IPY_MODEL_523da146b15549418c0f1e686af2e60b",
       "value": "<div><font style='font-weight:bold'>last_update_date</font>: 2022-10-30 16:34:27+00:00</div>"
      }
     },
     "9dbdddc162e0440fb7a183c840c5d1ca": {
      "model_module": "@jupyter-widgets/base",
      "model_module_version": "1.2.0",
      "model_name": "LayoutModel",
      "state": {
       "width": "190px"
      }
     },
     "9f80f24f4bf54b8b8e334c1738cdf829": {
      "model_module": "@jupyter-widgets/base",
      "model_module_version": "1.2.0",
      "model_name": "LayoutModel",
      "state": {
       "width": "95px"
      }
     },
     "9fc8007179c04fb5a77417df58a12b80": {
      "model_module": "@jupyter-widgets/base",
      "model_module_version": "1.2.0",
      "model_name": "LayoutModel",
      "state": {
       "width": "70px"
      }
     },
     "a24b9611654d432db1a2ac751eebbcd6": {
      "model_module": "@jupyter-widgets/controls",
      "model_module_version": "1.5.0",
      "model_name": "HTMLMathModel",
      "state": {
       "layout": "IPY_MODEL_157b43b526904eb9a10e63ad0cc9f264",
       "style": "IPY_MODEL_329b58cfb73c4051a56e679b7599a822",
       "value": "<table><style>\ntable {\n    border-collapse: collapse;\n    width: auto;\n}\n\nth, td {\n    text-align: left;\n    padding: 8px;\n}\n\ntr:nth-child(even) {background-color: #f6f6f6;}\n</style><tr><th>Property</th><th>Value</th></tr><tr><td><font style='font-weight:bold'>n_qubits</font></td><td>7</td></tr><tr><td><font style='font-weight:bold'>quantum_volume</font></td><td>32</td></tr><tr><td><font style='font-weight:bold'>operational</font></td><td>True</td></tr><tr><td><font style='font-weight:bold'>status_msg</font></td><td>active</td></tr><tr><td><font style='font-weight:bold'>pending_jobs</font></td><td>89</td></tr><tr><td><font style='font-weight:bold'>backend_version</font></td><td>1.0.13</td></tr><tr><td><font style='font-weight:bold'>basis_gates</font></td><td>['id', 'rz', 'sx', 'x', 'cx', 'reset']</td></tr><tr><td><font style='font-weight:bold'>max_shots</font></td><td>20000</td></tr><tr><td><font style='font-weight:bold'>max_experiments</font></td><td>100</td></tr></table>"
      }
     },
     "a69acb9ec6f44eaf977d3c1c15d11d48": {
      "model_module": "@jupyter-widgets/controls",
      "model_module_version": "1.5.0",
      "model_name": "DescriptionStyleModel",
      "state": {
       "description_width": ""
      }
     },
     "a7f482c4e3954a1090183e23604bf446": {
      "model_module": "@jupyter-widgets/controls",
      "model_module_version": "1.5.0",
      "model_name": "HTMLModel",
      "state": {
       "layout": "IPY_MODEL_35dc5aab34da400c8362104c8dce6594",
       "style": "IPY_MODEL_28717d056f8f441d8834b03e24b81448",
       "value": "<table><style>\ntable {\n    border-collapse: collapse;\n    width: auto;\n}\n\nth, td {\n    text-align: left;\n    padding: 8px;\n}\n\ntr:nth-child(even) {background-color: #f6f6f6;};\n</style><tr><th></th><th>Type</th><th>Gate error</th></tr><tr><td><font style='font-weight:bold'>cx4_5</font></td><td>cx</td><td>0.01654</td></tr><tr><td><font style='font-weight:bold'>cx5_4</font></td><td>cx</td><td>0.01654</td></tr><tr><td><font style='font-weight:bold'>cx2_1</font></td><td>cx</td><td>0.00721</td></tr><tr><td><font style='font-weight:bold'>cx1_2</font></td><td>cx</td><td>0.00721</td></tr></table>"
      }
     },
     "ad22ee3042c0472ca3578f12b6cda870": {
      "model_module": "@jupyter-widgets/controls",
      "model_module_version": "1.5.0",
      "model_name": "GridBoxModel",
      "state": {
       "children": [
        "IPY_MODEL_9b86f2116f6642d793bf582a92ffe79d",
        "IPY_MODEL_a7f482c4e3954a1090183e23604bf446",
        "IPY_MODEL_80bdb64166c84dbf8a26d67335e3f6ef",
        "IPY_MODEL_f8d6990fb8c8485092cb6449612b1a92"
       ],
       "layout": "IPY_MODEL_d5d7b3fd9aa94970a539e211db49c0bd"
      }
     },
     "aebf118ffee84e31b2a9b05c10a46a24": {
      "model_module": "@jupyter-widgets/controls",
      "model_module_version": "1.5.0",
      "model_name": "HTMLModel",
      "state": {
       "layout": "IPY_MODEL_06dee5e07e15440394e7412ad4ab7ddc",
       "style": "IPY_MODEL_c21b947d7869449c92c01a7c968cc745",
       "value": "<h1 style='color:#ffffff;background-color:#000000;padding-top: 1%;padding-bottom: 1%;padding-left: 1%; margin-top: 0px'>ibm_oslo</h1>"
      }
     },
     "b34a24ca803840b5b800211758e08c3f": {
      "model_module": "@jupyter-widgets/base",
      "model_module_version": "1.2.0",
      "model_name": "LayoutModel",
      "state": {
       "width": "95px"
      }
     },
     "bfc76f2ec8834c7e9a88d50bc7a70f2b": {
      "model_module": "@jupyter-widgets/base",
      "model_module_version": "1.2.0",
      "model_name": "LayoutModel",
      "state": {
       "grid_area": "bottom",
       "width": "auto"
      }
     },
     "c1ff2c883f5c4ff293c296184952fe0f": {
      "model_module": "@jupyter-widgets/base",
      "model_module_version": "1.2.0",
      "model_name": "LayoutModel",
      "state": {
       "align_items": "center",
       "display": "flex-inline"
      }
     },
     "c21b947d7869449c92c01a7c968cc745": {
      "model_module": "@jupyter-widgets/controls",
      "model_module_version": "1.5.0",
      "model_name": "DescriptionStyleModel",
      "state": {
       "description_width": ""
      }
     },
     "c40d663867914986b07a31a694249563": {
      "model_module": "@jupyter-widgets/base",
      "model_module_version": "1.2.0",
      "model_name": "LayoutModel",
      "state": {
       "grid_area": "middle"
      }
     },
     "c759943200a0412696a6f82859fb89a3": {
      "model_module": "@jupyter-widgets/base",
      "model_module_version": "1.2.0",
      "model_name": "LayoutModel",
      "state": {
       "overflow_y": "scroll"
      }
     },
     "cbb76a2d5cf649d395d9a2396fe0dcac": {
      "model_module": "@jupyter-widgets/output",
      "model_module_version": "1.0.0",
      "model_name": "OutputModel",
      "state": {
       "layout": "IPY_MODEL_0f0ce9fcc3f64677868613afdc480e99",
       "outputs": [
        {
         "data": {
          "image/png": "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\n",
          "text/plain": "<Figure size 360x360 with 1 Axes>"
         },
         "metadata": {},
         "output_type": "display_data"
        }
       ]
      }
     },
     "ceab68b8f6f84be9a996342f18820a66": {
      "model_module": "@jupyter-widgets/controls",
      "model_module_version": "1.5.0",
      "model_name": "HTMLModel",
      "state": {
       "layout": "IPY_MODEL_9f80f24f4bf54b8b8e334c1738cdf829",
       "style": "IPY_MODEL_33d4d29a5a014112a7e311e8b00c9990",
       "value": "<font style='color:#34BC6E'>DONE</font>"
      }
     },
     "cfd01fda1e7147b6a0f84216e8b3ef15": {
      "model_module": "@jupyter-widgets/output",
      "model_module_version": "1.0.0",
      "model_name": "OutputModel",
      "state": {
       "layout": "IPY_MODEL_c1ff2c883f5c4ff293c296184952fe0f",
       "outputs": [
        {
         "data": {
          "image/png": "iVBORw0KGgoAAAANSUhEUgAAAoQAAAIACAYAAAAbln2BAAAAOXRFWHRTb2Z0d2FyZQBNYXRwbG90bGliIHZlcnNpb24zLjUuMSwgaHR0cHM6Ly9tYXRwbG90bGliLm9yZy/YYfK9AAAACXBIWXMAAAsTAAALEwEAmpwYAABcOUlEQVR4nO3deXwcdf3H8den9wmlXOUyDZcQIIFQEBRIIYAIKmi5CqKAgCKg3KciIiIgCFqOn9yIUDmqCFLEEmiwFLBpoAFSQWgagXKHo0d6f39/fCd0mybtJtnd787M+/l47COb2dmZz+zszH7me4055xARERGR9OoVOgARERERCUsJoYiIiEjKKSEUERERSTklhCIiIiIpp4RQREREJOWUEIqIiIiknBJCERERkZRTQigiIiKSckoIRURERFJOCaGIiIhIyikhFBEREUk5JYQiIiIiKaeEUERERCTllBCKiIiIpJwSQhEREZGUU0IoIiIiknJKCEVERERSTgmhiIiISMopIRQRERFJOSWEIiIiIimnhFBEREQk5ZQQioiIiKScEkIRERGRlFNCKCIiIpJySghFREREUk4JoYiIiEjKKSEUERERSTklhCIiIiIpp4RQREREJOWUEIqIiIiknBJCERERkZRTQigiIiKSckoIRURERFJOCaGIiIhIyikhFBEREUk5JYQiIiIiKaeEUERERCTllBCKiIiIpJwSQhEREZGUU0IoIiIiknJKCEVERERSTgmhiIiISMopIRQRERFJOSWEIiIiIimnhFBEREQk5ZQQioiIiKScEkIRERGRlFNCKCIiIpJySghFREREUk4JoYiIiEjKKSEUERERSTklhCIiIiIpp4RQREREJOWUEIqIiIiknBJCERERkZRTQigiIiKSckoIRURERFJOCaGIiIhIyikhFBEREUk5JYQiIiIiKaeEUERERCTllBCKiIiIpJwSQhEREZGUU0IoIiIiknJKCEVERERSTgmhiIiISMopIRQRERFJOSWEIiIiIilXVAmhmTkz2zJ0HIVkZuPN7JBuvK+/mf3HzNbPQ1giIiKSImtMCM1stpm1mtk8M3vXzO40syGFCK67zGyymZ2wmtdHRsnnvHaPIwocZzlQAfwt+r/CzF4xsw/N7MyM+fqa2fNmtlnbNOfcIuB24PxCxiwiIiLJk20J4Tecc0OAHYGdgAvyFlFhDXPODcl43NfRTGbWu93/fbqyktXM/wPgHueci/7/NXA2Pkm8yMxGRNPPBCY4595s9/57ge+ZWf+uxCMiIiKSqUtVxs65d4HH8YkhAGa2m5lNNbNPzGyGmY3OeO04M5tpZnPNbJaZ/SBzeWZ2jpm9Y2ZzzOz4dq+tbWZ/NLMPzKzZzH5qZr2i1y4xsz9lzNtW4tfHzH4F7AlcH5X6Xd+VbYyWd6eZ3WRmE81sPrB3VFJ6npk1APOjdX0zKtH7JCqV3DZjGavM38GqvgbUZvxfCjzpnHsb+C/wBTMrAcYA17Z/s3PuLeBjYLeubqOIiIhImy4lhGa2KT6JeT36fxPgUeAyYDi+dGtCRru294GvA2sBxwHXmlll9N4Dovn3A7YC9m23unHA2sDmQBXw3WgZq+Wcuwj4F3BqVOp3ale2McNRwK+AocCUaNpY4CBgWBTXeOB0YH1gIvCImfXLWMbn8zvnlmYu3MwG4xPAVzMmvwzsH33OI4E3gN8B5zjnlnQS50x8iaKIiIhIt2SbED5kZnOBN/FJ3s+j6d8BJjrnJjrnljvnJgF1wIEAzrlHnXNvOK8W+Ce+9A7gcOAO59zLzrn5wCVtK4uqaI8ELnDOzXXOzQauAY7pwbZ25MOodK/tsW3Ga39zzj0TbdfCaNrvnXNvOudagSOAR51zk6Jk7WpgIPDljGVkzt/esOjv3IxpZwMnAw8DZwBfiV5vMrO/mVmtmR3WbjlzM5YlIiIi0mXZtoU7xDn3hJlV4dutrQd8ApQAh5nZNzLm7Qs8BWBmX8Mnj1vjk89BwEvRfBsD0zPe15zxfL1oOc3tXt8ky3iztV77krsM7dvrtZ+2MRnxOeeWm9mbrBxjR8to80n0dyiwMFpGM1EybWaDgGeB/fGlpffhS2NfNrMa51xLxvs/QURERKSbutqGsBa4E18aBj7huds5NyzjMdg5d0XU0WFCNO+Gzrlh+GpVi977DrBZxuK/kPH8Q2AJPuHMfP3t6Pl8fHLZZgQrc/RcR8vInDaHjPjMzPDb83Yn86+8IF8q+gY+We7IxcAtzrn3gB2AOufcp8BbQObQPNsCMzrfDBEREZHV6844hNcB+5lZBfAn4Btm9lUz621mA8xsdNQGrh/QH/gAWBqVFu6fsZz7gWPNrCwqDWurhsY5tyx6/VdmNjTqWHFmtD6AF4G9zOwLZrY2q/Z6fg/fxi+f7gcOMrNqM+sLnAUsAqZ2YRkT8e0jV2JmZcBo4KZoUhOwj5ltiG9v+b9ovk3wbTef6+Y2iIiIiHQ9IXTOfQD8Ebg4GgblYOBCfOL3JnAO0Ms5Nxf4MT5x+hjfSePhjOU8hk8un8R3Unmy3apOw5cEzsJ36rgXP+4eUVvF+4AGfLXz39u993fAoWb2sZn9fjWb80m7cQjPXM287T+HV/FtKMfhSzS/gR+eZ3G2ywBuBo6OShcz3QD8JEqMwSe8PwZeAS6PenuD/0zvisYkFBEREekWWzEEnoRgZvcC9zvnHuri+/rjq4r3cs69n4/YREREJB2UEIqIiIikXFHdy1hERERECk8JoYiIiEjKKSEUERERSblsB6buiYI3Uhw7diwA48ePL/Sqe6J9T2MRERGRgihEQiiSKuUlVYOBHYHt8HeSGRA9luLvStOKH6JpOvBmQ3OtenYVkYqRowfg7w++A/4+7APx+28Zft8txA9MPx1omjF7svZfEaksre6H33cVwNqs2H8Ov/9a8WPV1gOv1zfVLA8UqkhRKUQv44KfLFta/F3dhg8fXuhV94RKCGOovKSqL7ALMArYK3q+EbAAf/vFPtGjF/5YWIZPDBdHry/Dj6f5NPBv4NmG5tp3kYKoGDm6N7Azfv/tCXwJf8ehBUBvVuzDtuY1S/H7bBErLqhfwe+/54FnZ8ye/Fah4k+7ytJqw1987YK/9/vuwEh80tcLf4OE3tEDVuy/xdHrvYGZrNh/z9U31TQVbANEikgiE8KYUkIYI+UlVRsDPwROxf+o9MOXQnTXcmBetJyngd8ANSo9zI+KkaPXB04AzsDvt96sfDvMrsrcf9OAq4DHZsyevGy175JuqSytHgZ8D38jhLXxyV1P9p/D778++AT/SuBv9U01S3oWqUh8JDIhfPDBBwE49NBDC73qnlBCWOTKS6oMf0vBc4C9o8k9SQI74/B36fkMfy/wOxqaaz/Jw3pSpWLkaMOXAJ4FfB3/OQ/M0+rm4quWrwNumTF78gd5Wk+qVJZW74i/jelh+JK+wXla1dxo+TcAN9U31by9hvlFYi+RCaE6lUiulZdUfQ34P/y9owdTuP01H196dQdwbkNz7bwCrTdRKkaO3hO4DdgYnwQWaoSFVvx35UHgxzNmT/64QOtNlMrS6kr8rUu3Avqzogo43xZGf/8B/LC+qea9Aq1XpOCUEBYPJYRFqLykahi+lOAQelYl1VOtwKfA2Ibm2skB44iVipGjBwHX4KsX81UamI2F+HaJ350xe/KjAeOIlaiDyKX4e7kPINx5cjF+H/4AuK++qUZNOSRxNA6hSCfKS6oOAF4Hvk3YZBB8MjMCeLS8pOrmqCezrEZUKvhfwieD4JOZ4cD9FSNH31cxcvQ6geMpelGp4EzgNPz+C3nR3A/f4/xWYGJlafWGAWMRyQslhCLtlJdUrV1eUnUPMAFYl/y0E+yuQcB3gNfLS6qqQgdTjCpGjh5UMXL0TcDjrKgiLhaDgG8Cr1eMHH1Q6GCKUWVpdb/K0uorgClAKeEvxjINBvYBXqssrT4ydDAiuaSEUCRDeUnVJsCLwBiK64coU1tp4WPlJVUnhA6mmFSMHD0cP3xIMZQKdiaztPD80MEUk8rS6iHAUxRHqWBn2koLb6ssrb46GvpGJPYS2YawtbUVgIEDi/X3oEM6qQRWXlK1OTAVXyoYl0HbFwCXNDTX/iZ0IKFVjBy9EfAMsAn+RzsOFuDbqJ6X9gGuK0urhwOT8R1HiqlUfnUWAPcBJ2iAa4m7RCaEMaWEMKAoGfw3sA7xKzlfAPy6obn2stCBhFIxcvQIoA7YkPgk823m43vQ/iStSWE0ruDz+EGl45LMt1kA/A34jpJCibO4/fBl5e677+buu+8OHYbERDTI9DPEMxkEX7V9QXlJ1SmhAwkhqiaeAmxA/JJB8O3Svg/8PHQgIVSWVg/GlwyOJH7JIKxoF3q9qo8lzuL447dGEydOZOLEiaHDkBgoL6laC59MrEe8j4dBwG/KS6oOCx1IIVWMHN0f3+ZsM/xt5uJqEHBOxcjRJ4cOpJAqS6t7AxOBLxLPZLDNYHy71Z+FDkSku+L8AyiSC+Pw9x6OY8lSewOB26OOMWnxS2BL4p1MtBkEXFMxcvQXQwdSQKfj7yUdlzaDqzMIOL+ytHqX0IGIdIcSQkmt8pKqfYFDScaPUZv+wJ+i2+wlWsXI0aPw95Iu1t7g3dEf3/u4UHfiCKaytHorfEKfpDE1BwAPVJZWJ+mcIimR91KRWU9M6tH7N993vxxFIrJCVFV8L8lKJsBXm+4CfBe4K3AseRNVFT9AspJ58BfpW+Dvt3xV4FjyJqoqvh+fACeJAevjE91zAsci0iUqIZS0GgcMCR1EngwGrk941fEv8Z1IklgSOhi4JOFVx6fjh5dJ4m/QIOAUVR1L3OR92JlZT0zq0QpSVEKYxB+2ohRVFf+N5JUOZlqC7zm9T0NzbaKGMomqip+meAeezoXlwMtA5YzZk5eFDiaXoqriGSR7/zngf8A29U01C0MHI5KNJF6diXQqalt3E8lOBsFXHY8CRgeOIx/Gkbyq4vZ6AZsD3wodSB5cTfKqitsz/MgFxwaOQyRriUwIb7nlFm655ZbQYUhx2g3fqzgNBgNnhw4il6Jq1ArSUaI+BDg3dBC5VFlaPQLYn4T+9rQzGDhXYxNKXCTyoHzyySd58sknQ4chxekskl1VlcmA6mjg7aT4MckYIihb21eMHL1t6CBy6KTQARTY+sCXQwchko1EJoQiHSkvqVofOIh0fe8d8IPQQeRCxcjRg/FVcHEegLqr+uKT4NirLK3ug9+WpFf3ZxpEwkrpJbnS9MMocgLpu7f2AOC08pKqJCRRR+I7W6RJH+C7UTIcdweRjAHEu6IXcEBlafUGoQMRWRMlhJIK5SVVvYEzSE91caY++HutxlbFyNEGnEdyhwpaneXA0aGDyIHzgKGhgwggMaX0kmyJTAgHDBjAgAFpqpWQLOxAOpNB8D/CR4YOooc2wd+vOI2GAMeEDqInKkurB+N7vafRQOCo0EGIrEkiE8I77riDO+64I3QYUlx2Jh09Uzuza+gAemhnYFHoIAIqj0pJ42pHYEHoIALaorK0OgnNNiTBEpkQinTgyyTrnqldtXF5SVWct39X0lld3KYfEOfe4qNI/tiDq7MQKAsdhMjqJDIhHDduHOPGjQsdhhSXr4QOILAF+PH74qoK6B06iIAW40tJ42ov0tW7uD0j3vtPUiCRCeHUqVOZOnVq6DCkSEQ9bDcPHUdg/YjpD1JUVVoeOo7ABgNxvjdunGPPhSFoPEIpcl1KCM1suJn91czmm1mzmamhrMRBGb7KpuD69e/H+b/4CZOnP8S/X/0nd024nh12DDLO8ABgzxArzoFNCDQY9dHHH8oDj91G/Rs1zJg9mR+efmyIMMCXjlaFWnlPRB1KRoRY98+uOIsJk25nyst/58n6v/L72y9ni61HhggFVEshRa6rJYQ34KsuNsQPg3CTmW2X86hEcivYd/Tci0/lqGO/zUcffsxTj0+honI7/vCnaxi2ztohwtkpxEpzYDv8eafgyrbfmk8/ncu773wQYvXtxfWOJdsArSFW/K0jDmTuZ/P5xyNPMn/efPbY+0tcf+cV9OsXpH9HaYiVimQr66tuMxsMjAG2d87NA6aY2cP44RDOz1N8IrkwhADtz4avO4xvHX4gy5Yt48SjzqDlo09YumwZ3/j2/oz93re46bo7Cx1SXIfdCdYZ5qIzLwfg2psvY5NNgxRyZYprG7zBBBpQ/Ohv/JCZL/8XgI022ZBHp9zLhhutz+ZbjeQ/r/y30OH0qyyttvqmmrQNji8x0ZVqmK2Bpc651zKmzaCDagwzO4nonpWXnf4Txh50UI+C7Kphw4YVdH1S9AYQICHcYutS+vbry9tvvkPLR58A0NjwH77x7f35YtmWhQ4HYJPykqrY/hiZxXnUlZ4zGDJ2lxNit/82XWtD5sx9n+Wu8KG3JYMAfaNSwaVLl/Hh+x8VPBb8ANX9SPfwSVLEupIQDgE+azftUzoYed45dzNwM8CsJyYV/Cxw0003FXqVUtwGEKAD1brrrQPAgvkrastaW31TxvXWH17ocCTmYpcJRpY7Fzz4gYMGcMlV5wBwz20P8uEHLSHCWIo/FykhlKLUlR/JecBa7aatBczNXTgiebGEAD9JH334MQCDBq+oqR00yD8P9IMkUnBmFnRI+GHD1+bme69hx1Hb85fxf+d3V9wcKpRe+HORSFHqSkL4GtDHzLbKmFYBvJLbkHruqquu4qqrrgodhhSPhcCyQq/0jf/OZsniJYzYeAOGR6WF21VsA8BrM98odDgScxbTG+30wgiVEW60yQbc/sDv2K5iG26/4V4uu/DaIHFE+hBotAORbGRdZeycm29mfwEuNbMT8LciOpgiHFvphRdeCB2CFJdWAiSELR9+zN8e/AeHHvUNbr33t/z31Sa++vW9mT9vAePv+kuhw5Fu+NYRB7HTLjuw7Xb+Onjv/fdg401H8NQ/p/DUP6cUNJa4tqH0cYepM77jwXFsMGI93nn7PQYM7M/ZP/sRAI89XMMrM14tdDjL6ptqgnSuEclGV8f2+hFwO/A+8BFwsnOu6EoIRdppJkBCCHDlJb9n6dKl7H/Q3uxTsgkNLzRy9WU38nHLpyHCqW1orh0dYsU9UTFydDkwhQ7aK+fbTrvswMGHHvD5/9uUbck2ZVsy5613C54QLnfLG8dPuzV2w3xVllZvDLxBgF7SG4xYD/A9jI86fszn019tfCNEQvh+oVco0hVdSgidcy3AIfkJRSRv6oFBIVa8aNFiLv/ZdVz+s+tCrD7TUqA2dBDd1Eig++BefPYVXHz2FSFW3ZHCZqA5Ut9UM6eytHoRARLCytLqQq9ydepCByCyOom8dZ1Ipobm2k/xJdppNh+YFjqI7pgxe/JSfAlTms0Dng0dRA/MCB1AYIuI7wWZpEQiE8IRI0YwYkTwQWSluKT96nwAMD10ED3wTOgAikCcv8O1+FLqtFpIvI8/SYEg9wfNt2uvDdqTTIpTLbA/fmDYNGptaK59J3QQPTAVOBI/Hmoa9QP+EzqIHpiGL6UOcs/GIjAIUG9HKWqJLCEU6cB0At1PtUjEvcqujuDDGwf1elR1HlfTCdQOtEh8WN9UE6QnmUi2EpkQXnrppVx66aWhw5DiUkd6f5BagUdDB9FDM0MHENBi4LHQQfREfVPNHODj0HEEsgx4MnQQImuSyIRw5syZzJyZ5t8Paa+huXYu8CCBhp8JrBdwR+ggeiIqHbsZnxylzXLgxtBB5MC1wILQQQSwCL/tIkUtkQmhSCeuJX33EV0OPNLQXPth6EBy4Hr89qTNv2fMnjwrdBA5cDvp/M1prm+qUYcSKXppPDglpRqaa+uBptBxFFgrcE3oIHJhxuzJs4HnQsdRYHOBRNyHs76p5iPgb6QrqZ8HXBk6CJFsKCGUtLkS/yObFu8Az4cOIoeuwv/IpsVC4B+hg8iha0hf5677Qwcgko1EJoSlpaWUlpaGDkOK0wOhAyigecCVDc21Seqd+zjpaYfWClw7Y/bkxLR7rW+qmQa8FTqOAlkC3FbfVJO2BFhiKpEJ4eWXX87ll18eOgwpQg3NtQuBq/FjoiXdQmB86CByacbsycuBi0nH/mvrSJM0F5KO/bcEdSaRGDHn8l54kKTSiXyy0AGkRXlJVV/gZWArkvu5LwAOaWiunRQ6kFyrGDm6F/42bjsDvQOHky/zgRNmzJ7859CB5ENlafXfgf1I7kDx84EL6ptqxoUORCRbiSwhvPDCC7nwwgtDhyFFqqG5dglwGL4ELYlagQeTmAzC56WER5LcHuOLgX8B94UOJI+OJ7nH3zKgEbghdCAiXZHIhLCpqYmmprR1JpWuaGiubQB+QzKrruYDp4UOIp9mzJ7cBJxDMvffIuDYGbMnJ7Z2pb6p5n3gBJK7/46sb6pJU29qSYBEJoQiWboMeJtkNWtYABzV0Fz7WehACuD/gFdI1mDj84GTZsye/F7oQPKtvqnmAWAyyRpsfD5wfn1TTRLGjZSUUUIoqZVRdZyUXoALgPuTWlXcXkbVcVL230J8gpTkquL2jscnUUm4KFsMvISqiiWmlBBKqkVVx0lIKlrx4w2eFDqQQoqqjg8i/kPRLMK3Ozs8yVXF7UVVx/sQ/6rjJcD/gK+pqljiKpEJ4bbbbsu2224bOgyJiYbm2keAE4lvUrgQX3V6UFTqmSozZk9+mniX9C4GmoF9ZsyeHPfEtsvqm2peBA4gvkn9MuB9YI/6pppPAsci0m0adqZ4JHX4k9goL6k6Dl/dMzB0LF3Qik8Gq1PSbrBTFSNHHwLcS7z23yL87RT3mjF78gehgwmpsrR6b+ARYHDoWLpgCfAu8JX6ppo3Qwcj0hNKCIuHEsIiUF5S9W3gT8QjqViAryY+qKG5Nq6lYzlVMXL0vsBDxCOpaCvZrZ4xe/KnoYMpBpWl1bsCk4ChFP85cRG+ZHfPqOpbJNbynhDOemJSwRLCzffdD4AzzjgDgGuvjdUg8cV+8kuN8pKqvYEHgUHAgMDhdKYVn7ieksZq4tWpGDl6F+BvwDCKN7FfADyKH14mrlWleVFZWl0G/B3YEH8MFqP5wDPA4fVNNUrmJRES2Ybw3Xff5d133w0dhsRUQ3PtU8AWwF8pvnZNrcB7+FLBk5QMrmrG7MnT8Heh+SPFt/8WAR8DR86YPflwJYOrqm+qaQS2Bcbhv+/FVMu0BJiLb3N8gJJBSZJEJoQiPdXQXPtJQ3PtUfjOCi0Ux10VWoF7gC2jpFU6MWP25PkzZk/+IfA14B2Ko8PJAuBhYIsZsyc/EjqYYlbfVLOovqnmfGBPYDbFkdjPB54Ctq5vqhlf31RTTImqSI8pIRRZjYbm2omsKC1sBZYGCGMeK0oFT2xorp0XIIZYinogt5UWtuJLeAptHv6ioq1U8OMAMcRSfVPNdFYuLQxxu8L5rFwqqOonSSQlhCJrkFFauBu+3V4r+R83bRm+VORl4GRgpEoFuyejtHBH4Gb8vst3Ur08Ws/rwBnAF1Qq2D0ZpYVl+MRwLvnffy5ax5vABcBmKhWUpEtkp5KrrroKgHPPPbdQq84FdSqJifKSqrWA7+LvpTsc36M1V/tvPtAbeAC4tqG59oUcLVciFSNHDwLGAucBG+M7nuTq4rgV/134O3AN8HyaBpouhMrS6v7AGPz+2xLojz9mcmEhfv/V4O91XqskUNIikQlhTCkhjJnykioD9sLf6WQPfNXkEnzpwhDWvE8X4X+ABgEfAtOBx4B7G5prP8lP1NKmYuRoA3YFjsLvx23wJbPLyW7/LcYngAOBT4F64J/A3WkfU7BQKkurK4BjgCpgO/yxtxS//9aU5C/Bl8IPwF+IvQA8AfyxvqlmTr5iFilWSgiLhxLCmCsvqeoNfBHYGfgysAv+h6k//kdnKT4JbMU3lK/FJ4H1Dc216q0YWMXI0b3wJU47A7vjmwgMHdCn3zbLncOAXtaLXmbMX7LwH8DTQB1QP2P25I+CBS4AVJZWG1AKjAK+hD8G18YfewPwiX7b8fcu/virA6ZrHEGRhCaEJ598MgA33XRToVadC0oIRYrQWdXnrHIOu6bmNzpeRSRR+oQOIB8++eST0CGIiIiIxIZ6GYuIiIiknBJCERERkZRTQigiIiKScolsQ/jlL385dAgiIiIisZHIhPC0004LHYKIiIhIbHSpytjMTjWzOjNbZGZ35ikmERERESmgrpYQzgEuA76KH52/KB133HEA3HHHHYEjERERESl+XUoInXN/ATCzUcCmeYkoBxYuXBg6BBEREZHYyEsvYzM7Kaparhv/6KP5WIWIiIiI5EheOpU4524GbobC3rpORERERLpO4xCKiIiIpFwih53ZZ599QocgIiIiEhtdSgjNrE/0nt5AbzMbACx1zi3NR3DddeKJJ4YOQURERCQ2ulpl/FOgFTgf+E70/Ke5DkpERERECqerw85cAlySl0hyaOzYsQCMHz8+cCQiIiIixU+dSkRERERSTgmhiIiISMopIRQRERFJOSWEIiIiIimXyHEIDzzwwNAhiIiIiMRGIhPCY445JnQIIiIiIrGRyCrj1tZWWltbQ4chIiIiEguJLCE8/vjjAY1DKCIiIpKNRJYQioiIiEj2lBCKiIiIpJwSQhEREZGUy3sbws333S/fqxARERGRHkhkp5IxY8aEDkFEREQkNhKZEB566KGhQxARERGJjUS2IWxpaaGlpSV0GCIiIiKxkMgSwlNOOQXQOIQiIiIi2UhkCaGIiIiIZE8JoYiIiEjKKSEUERERSTklhCIiIiIpl/dOJbOemJTVfLkcwProo4/O2bJEREREki6RvYy//vWvhw5BREREJDYSWWU8Z84c5syZEzoMERERkVhIZAnhWWedBWgcQhEREZFsJLKEUERERESyp4RQREREJOWUEIqIiIiknBJCERERkZRLZKeSE044IXQIIhJT1WVjDNgcKAfW2nSt9XA4AHqZYWZUl43ZG6ivaZzwacBQRURyxpxzeV3BrCcmZbWCXA5MHVMWOgCRtImSv1JgFLAbsCewHeCApUAvw4ZA22nMMIPlzn0KDAI+AqYDtdHf6UoSRSSOEpkQzpo1yy9z881ztswCUEIoUiDVZWMGAWOB84BN8MnfELrfjGYx0Ar0B/4OXAM8X9M4Ib8nWBGRHElkQjh27FggduMQKiEUybPqsjFfBH4MHAssxyeBubYcnxy+A1wJjK9pnDA/D+sREcmZRLYhFBHJVF02phz4A1CBP+/1zePqegGDgS2Ba4HfVZeN+T/gZzWNExbkcb0iIt2mXsYikljVZWP6VpeN+QXwHPAlYCD5TQbbG4Jva/hD4LXqsjFfKeC6RUSypoRQRBIpKhV8CTgLnwiGbJYxCN9WcVJ12ZhxURtGEZGikXVCaGb9zew2M2s2s7lm9qKZfS2fwYmIdFW7UsGt8dW3xWIgcDwqLRSRItOVNoR9gDeBKuB/wIHA/Wa2g3Nudh5i67ZTTjkldAgiEkB12ZghwD+AnfDJVzEaFD0mVZeNOa2mccJtoQMSEelRL2MzawB+4Zyb0Nk8Gocwa+plLNID1WVj1gEm40sFB4SNJmsLgEtqGif8JnQgIpJu3W5DaGYb4k+8r3Tw2klmVmdmdeMffbQn8XVLY2MjjY2NBV+viIQRJYPPA18kPskg+JLCS6rLxlwcOhARSbdulRCaWV/gMeAN59wPVjevxiHMmkoIRbqhumzMYGAqPhnsHzic7loAnF/TOGFc6EBEJJ26XEJoZr2Au/Ej85+a84hERLJUXTamD77N4NbENxkEX1J4ZXXZmLGhAxGRdOpSQmhmBtwGbAiMcc4tyUtUIiLZOReoJF7VxJ0ZCNxaXTamJHQgIpI+XS0hvAnYFviGc641D/GIiGSlumxMGfBTfOlaUvQD7q0uG6MmJCJSUF0Zh7AE+AGwI/Cumc2LHkfnKzgRkY5EVcUPEO9q4o70wd9e76TQgYhIumQ9DqFzrpmYdHw4++yzQ4cgIvl1LlBCMu+2NBi4prpszD9qGic0hw5GRNKhR+MQZkPjEGYtFsm2SGhRVXEdxTvwdC4sBf4N7FHTOCG/J2kREZJ5dc306dOZPn166DBEJD+uJ3lVxe31Acrxd4QSEcm7rty6LjauvvpqIHbjEIrIGlSXjRkJ7E5CL2bbGYKvGi/86P4ikjppOKmKSHKcSrqaV+xaXTZm89BBiEjyKSEUkVioLhvTH9/7NunVxZl6oRsAiEgBKCEUkbg4NHQAAfQDTqwuG5OEgbdFpIgpIRSRuDgPGBo6iEAOCx2AiCRbIjuV/OxnPwsdgojkUHXZmBH4+xWn0RDgOPw95EVE8iKRCWFZWVnoEEQkt3YGFpKu9oOZdgwdgIgkWyKrjKdMmcKUKVNChyEiubMr/g4eaTWoumzMhqGDEJHkSmQJ4Q033ADAHnvsETgSEcmRKhJ6vsrSQnwp6cTQgYhIMuX9BKtb0olIDlSEDiCwwcAolBCKSJ6k+YpbRGIg6lAS5L7F511+KpW7l7PWOmvROr+VV19+g9uuu4fXZzYVOpQ+wGjg0kKvWETSQQmhiBS7HQjUoWSDjddnxrRG5s9bwE5f2p5d99yJki025ah9f1joUAC2D7FSEUkHJYQiUuyGEuh2dWcd+/PPn2+1bSn/N+Fq1ttwOL379GbZ0mWFDidIKamIpEMiE8Jf/epXoUMQkdwZQMD7Fx981Nco2WJTKnfbAYAH73wkRDII0DfESkUkHRKZEG6+ue4FL5IgAwg4RNZe++/Gjrv62tr33/mQl1/4T6hQlBCKSN4kchzCmpoaampqQochIrmxFHChVn7WsT/ngB2P5GenXsG6G6zDz689mw02Xj9EKMtDrFRE0iGRCeGtt97KrbfeGjoMEcmNhQRIhvr170evXv4UuWTxEqb96wVaFyykT98+bLxpkDGiF4dYqYikQyKrjEUkUVoJUEK4bflWXPib03mprpG5n81nh523ZcjQwXz80af8t3FWocMBWBJipSKSDnlPCGc9MSnfq1hF68cff75uDYwtEntvE6BTyUfvt/DW7Dns/OUKBg4ewKctnzH5H1O5+8b7mT9vQaHDAXg3xEpFJB1UQigixe5lAgy58lbzOysNO1MEng0dgIgkVyLbEIpIctQ0TlgMFPzWIEVmPvBM6CBEJLkSWUJ4/vHHhQ5BRHLrWWDr0EEEtByoCx2EiCRXIksINxg+nA2GDw8dhojkzjP4UrK0GgC8EjoIEUmuRCaET02bxlPTpoUOQ0Rypw4IcnuQIjGrpnGCehmLSN4kssr4kdqnAdh7l10CRyIiOfIKCT1fZWEpUPjhGkQkVRJZQigiyRJ1LLmTdI7FtwS4IXQQIpJsSghFJC5+jy8tS5uXaxonBLuBsoikgxJCEYmFmsYJrwINoeMosLnAlaGDEJHkU0IoInFyJT5JSotlwMOhgxCR5EtkI+2f/+AHoUMQkfx4hPS0I1wIXK/exSJSCIksIVx76BDWHjokdBgikmM1jROWAleQjjEJlwE3hg5CRNIhkQnh41On8vjUqaHDEJH8uBaYjb97R1LNB86saZzwTuhARCQdEpoQPsvjU3UfeJEkikoJDwMWhY4lT5YCLwK3BI5DRFKkSwmhmf3JzN4xs8/M7DUzOyFfgYmIdKamccJM4DKSWXW8CDiqpnGCCx2IiKRHV0sIfw2MdM6tBXwTuMzMds59WCIia3QVyas6bqsq/l/oQEQkXbqUEDrnXnHOtVXTuOixRc6jEhFZg4yq44WhY8mRRcALqKpYRALochtCM7vRzBYA/wHeASZ2MM9JZlZnZnXjH300B2GKiKwqqjo+AmgNHUsPLQH+B3xDVcUiEoI51/Vzj5n1BnYHRgNXOuc6HSdr1hOTCn5yW7hoMQAD+vdj8333K/Tqu8tCByASV9VlY44CbgUGho6lG5YB7wI71zROeC90MCKSTt3qZeycW+acmwJsCpyc25B6bkD/fgzo3y90GCJSIDWNE+4FTiF+JYVL8DUtuysZFJGQejrsTB+KsA3h3yZP5m+TJ4cOQ0QKqKZxwh3AMcQnKVwENOFLBt8MHYyIpFvWCaGZbWBmR5rZEDPrbWZfBcYCNfkLr3tq66ZTWzc9dBgiUmA1jRMm4EdA+ITiHqdwPvAs8KWaxgnvhw5GRKQrJYQOXz38FvAxcDVwunNON14XkaJR0zjhCWBLfIe3BYHDaW8JMA84DdinpnHCJ2HDERHx+mQ7o3PuA6Aqj7GIiORETeOEj4BvV5eNOQS4A9/ZpH/QoHyp4DTgOzWNE94OHIuIyEoSees6ERGAmsYJD7FyaWGIQaxbWblUUMmgiBSdrEsIRUTiKKO0cDfgbODr+MQw30PUzMUPmn0dcEtN44QP8rw+EZFu69Y4hF0RYhzCTBqHUEQyVZeNWR/4PnAGPikcmsPFL8Ynm9Pwt9Z7rKZxwrIcLl9EJC+UEBYPJYQiBVRdNqY38FXgWOBLwMb4dn79yK700OGrgnsBvYFG4Ang5prGCW/kIWQRkbxJZJXx/f/8JwCH779/4EhEpFhFJXcTowfVZWMGAxXAzsBeQCUweLlbvqFhOPy1rXPQu1eveuBfwPPAdOD1msYJIdoniojkRCITwucaXgKUEIpI9moaJ8wHpkaPcW3TK0aOXqWWY8bsyTsXMDQRkbxTL2MRERGRlFNCKCIiIpJySghFREREUi6RbQj79+0bOgQRERGR2EhkQvjrn/w4dAgiIiIisZH3hDBG4wCKiIiIpFIi2xCOGzeOcePGrXlGEREREUlmQjh16lSmTp0aOgwRERGRWEhkQigiIiIi2VNCKCIiIpJySghFREREUi6Rw84MGzYsdAgiIiIisWHOrXLf9lzL+woSwkIHICKrqhg5epVz2IzZk3W8ikiiqMpYREREJOXyXmU864lJ+V7FKm79y18BOOHb3yr4urOlAbtFRESkWCSyDWHjrFmhQxARERGJDVUZi4iIiKScEkIRERGRlFNCKCIiIpJyiWxDuP46w0KHICIiIhIbiUwIL/j+90OHICIiIhIbqjIWERERSblEJoQ33ncfN953X+gwRERERGIhkVXGr7/5VugQRERERGIjkSWEIiIiIpI9JYQiIiIiKaeEUERERCTlEtmGcNMNNwgdgoiIiEhsJDIhPPOYY0KHICIiIhIb3aoyNrOtzGyhmf0p1wGJiIiISGF1tw3hDcC0XAaSS7+9+25+e/fdocMQERERiYUuVxmb2ZHAJ8BUYMtcB5QLb733fugQRERERGKjSyWEZrYWcClw5hrmO8nM6sysbvyjj/YkPhERERHJs66WEP4SuM0595aZdTqTc+5m4GaAWU9Mct0PT0RERETyLeuE0Mx2BPYFdspbNCIiIiJScF0pIRwNjAT+F5UODgF6m1mZc64y96F135abbRo6BBEREZHY6EpCeDPw54z/z8YniCfnMqBc+NERR4QOQURERCQ2sk4InXMLgAVt/5vZPGChc+6DfAQmIiIiIoXR7TuVOOcuyWEcOfXr224D4ILvfz9wJCIiIiLFL5G3rvvg409ChyAiIiISG929U4mIiIiIJIQSQhEREZGUU0IoIiIiknKJbENYtvnmoUMQERERiY1EJoQnfPtboUOQlGtpqFsX2B4/gPtAoD+wFFgYPf4HvDa8fNSyYEFKpypLq4cBOwBrARj+Vp0O1/b6DsDM+qaapWEilNUpL6kait9/w4AB0cMBrfjj712gsaG5dnGoGEWKjTmX31sN617GHdt83/3aT+r85tBS1KLkb2dgF6AKf3vHtfA/PuD3bdv+ddGjN9AXeA2YAjwLTAdeVZJYWFHyVwmMwu+/nYHhROOuOufWbv8eM5uLT/LfAJ4BpuL3X6OSxMIqL6laC3/M7QzshT8O12fFuLkdHX+98EliE/7Yewa//15WkihplciE8JKb/s//PfmHhV511pQQxltLQ10/4NvAeUAZPvkbhE/yusoB8/DfgeXALcD1w8tHzc5JsLKKytLqPsDXgXPwiWArviS3XzcXOY8VicZdwO/qm2pey0Go0oHykqpewH74/bcXPvkbgE/Su2M+sAy//8cD1zY0176Ug1BFYiORCeGZV18DwG/PPqvQq86aEsJ4ammo+wLwI/wtGw0YmofVLMInF88CvwEeH14+anke1pM6laXVI4AfAD/GJ+/52H9L8MnFi8CVwN9Vapgb5SVV6wLHAWcBg/FNMnJ97lyK34ev4fffBJUaShoksg2hSK61NNRtC/we2AP/A9TdkohstC17b3zp1YKWhrpfAH9QYtg9laXVI4HfAfvjk+2BeVxd3+ixG/BHYEllafWVwG+VGHZPeUnVRsA1wLfwpeiD8ri6PtGjAvgD8H/lJVW/A37V0Fy7KI/rFQlKw86IrEZLQ13vloa6C4A6YB96Vi3VHUOBDfElhc+3NNSpC30XVJZW96osrf4R8DJwIH7/5TMZbG8ovj3ixUBDZWn1dgVcd+yVl1RZeUnV0cCrwKH4/ZfPZLC9ofj2wGcB/ykvqdqlgOsWKai8VxkDBa8yHjt2LADjx48v9Kp7QlXGRSYqFbwfKMVXT4W2DF+dfAG+jaFKC1cjKhUcj+9tWgz7bzl+/10OXKHSwtWLSgX/COxOcew/h++hfCNwkUoLJWkSmRCOGzcOgNNOO63Qq+4JJYRFoqWhrjdwLvBTfIlEsZWkzwdmAkcMLx81K3QwxaaytLoX8EPgKnxpbrE1jZmPH3bosPqmmldCB1NsykuqDDgKuAl//HWno1Y+LQDeBw5vaK6dFjoYkVxJZEIYU0oIi0BLQ91g4B/4YSyKoVSiM8vwpRUHDy8fVRM6mGJRWVrdH3gQ3/6ymPffcvz++059U81fQwdTLMpLqnoDtwNjKO7911ZaeGpDc+3toYMRyYViK/kQCaaloW4d/HhkoyjuHyPw4xgOBh5uaag7OHQwxaCytHowMAnf1rPY918vfFu4eypLq48NHEtRKC+p6gf8Fd9WsNj3n+Hboo4rL6k6M3QwIrmQyBLC4447DoA77rij0KvuCZUQBhQlg88BJRS200guLACOG14+6v7QgYQSJYO1wHb4asY4WQCcXd9Uc1PoQEKJksHH8D2zC9lpJBcWAFc0NNf+MnQgIj2RyBLChQsXsnDhwtBhSEy0NNQNASYTz2QQ/A/onS0NdQeGDiSEqJr4H8QzGQS//66uLK0+KnQgIUTVxA8Qz2QQfMznl5dUxarRukh7iUwIRbLV0lDXF3gc2Jp4JoNtBgIPtDTUfSV0IIUUdSCZgL9tWRyTwTaDgFsrS6tTldRHHUhuA/Ylnslgm0HAFdEQOSKxpIRQ0u5nwI7EO5loMwh4qKWhbq3QgRTQj4DRFHZswXwZCPy5srR6w9CBFNBh+DaDcU4G2wwCbi4vqdJYoRJLSggltVoa6iqAs0nGj1GbIcD1oYMohMrS6lL8rcWKvQNCV/QH7qosrU58m+LykqoN8PftTtr+uy+617JIrOR9fK5ZT0zq9ns7uN9vVvbZZ59ur1PSIaoqfoBklAxmGgCMaWmo+9Pw8lH/DB1MvkRVxfcR72r+jvTD3x7xSPyg2okUVRXfSfKOv97AtsCp+FtdisRGIq9iTjzxRE488cTQYUhxuxjYmGT27h4E3NPSULd26EDy6BSgDP8DnDSDgT9UllaPCB1IHh0O7IVPgJNmMPDr8pKqLUIHItIViUwIRVYnqio+i2RVVbU3BBgXOoh8qCyt3hy4gmTvv8RWHUdVxTeT/P33Z1UdS5wk8ss6duzYz+9nLNKBW0heVVV7bVXHO4YOJA/Gkbyq4vb6AV/BD7KdNL8m+cdfb2AbfKcZkVhIZEIo0pmWhroyYHuSWVXcXj8gUXdRqCyt3hioJplVxe0NAs4JHUQulZdUrQWMJZlVxe0NAc4LHYRItpQQStqcDvQNHUSB9AEObWmoGxY6kBw6mfTcH92AqsrS6k1DB5JD38Xfxzkttikvqdo+dBAi2VBCKKkR3ZHkOxSgd30RccD3QgeRC5Wl1X3xvTeTXt3Y3smhA8iFqGfxOSS77WB7ffEXoSJFTwmhpMnRwLLQQRTYIOCcloa6JFSRf5N0VBVnGgD8KEqG424vYHjoIAqsD3BUeUnV0NCBiKxJIhPCAw88kAMPTNUdoGQNooToXHy7nrRZG9g7dBA5cB6Qxh/W3sAhoYPIgbSVDrZZjq+ZEClqiaw6O+aYY0KHIMVnayDJ47qtzmB8tfGToQPprsrS6vWA8tBxBDIUOAE/kHoslZdU9Qf2Jx2dudobDJwI3BQ6EJHVSWQJYWtrK62traHDkOIyivRVF7cxYPfQQfTQzsDC0EEEVBk6gB7aHkjzSXlbjUkoxS6RX9Djjz+e448/PnQYUlx2I53VxW1GtjTUxXmoj11I1j2nu2qtytLqdUMH0QOjSGiNVJaWAVuFDkJkdRKZEIp0YE/SWV3VZiG+lCauqkjPcEEdacWXksbVV0h3Qr+ceO8/SQElhJJ4LQ11vfB3DUizXvhSmrjaKXQAgQ3Cl5LGVdybLPTUEHwthUjRSnMRvqTH1sASAt7urN+w4Qz5wuYALPzgPRa882ahQxiML6W5udAr7qnK0ur1Cdi7+Obx1zBqtx1Xmvb6q00cfsAJhQyjL76U9FeFXGkuRB1KSkKtf5+v7skJp3yHLb9YypLFS/jvq7M47fgLmPvZvEKGYfhaCpGi1aWE0Mwm469ylkaT3nbOfTHXQYnkWDkB745gffsyaOMv4NxyzIIWyu8acuU9UI6vMg3aBvLe2yd8/vyD91tChBDXXtbb4Pdfwav8v/bNaq4cdzGLFi7iyX9OoXVBK9tXbMvAgQMKnRAC6LdSilp3SghPdc7dmvNIcmjMmDGhQ5DishYBS8OHbFrK8qVLWDavlf7Dgo7LG9dONWuFDgDg6l/eGDqEuLbBW4tAF2Snn/8DAE7+3rnUPfdiiBAyDSgvqbKG5tq03HpRYiaRVcaHHnpo6BCkuAwkUHvZ/uttSJ/BQ/js9ZkMWG/DECFk2rSloS52P0YXnHkk1930F1pbFweNY/KLD2FmzHzpNX5/1a00Nrxa0PUbNvT4L/8odvtvq3VLeKPlTZa7wuaEJaWbstEmG9LaupDjfjiW62//NR9+0MLdtz3AfX98qKCxRBy+lDTsF1mkE935kfy1mX1oZs+Y2eiOZjCzk8yszszqxj/6aI8C7I6WlhZaWoJU6UhxGkCAW5717j+AQSM2ofW9OSxbmOYh2Hpm8ZKlFDiXWMmC+a08XfMs//z7ZN55+z12/UolN9x1Beuut05B43DELhcEwAXaecOGrw3AwIED2HSzjXj80clsMGJ9LvrlGey9/x4hQlqGvzgVKUpdLSE8D2jEX+EcCTxiZjs6597InMk5dzNR4/VZT0wq+FnslFNOAWD8+PGFXrUUp2VQ+F/TvmuvA2b0GTyUIYOH0HuAr/Hru9YwBrrltL77dqFDiqXevXoFHTDo9BN++vnzPn378NCTd7HxpiMYtfuOPP7IU+ECiwsLs/M+/uiTz59feMblvNLwHxYtXMSR3/0Wo/f7Ck/9c0qIsJaueRaRMLpUQuice945N9c5t8g5dxfwDKCbBkuxW0iAu5SYGWZGv7XWpt9aw+jdz/eJ6N2/P30GxbU5X+H169eHXoGSigED+rPeBh2PB+2WF/Yaw2I6jGYvCxP5nLff67TjyIL5QUrs+5Luu+1IketpG0JHugf7lXhYSIBG7a3vzaH1vTmf/z9405H0H75eqGFnYqtf375YoIRwnXWH8deaO5n27Iu88/Z7lFeWsfGmI/jwgxb+PbW+oLGE+gx6qleg4W6XLlnKPbc/yA9PP5ZfXXshM+pf4WvfrGbp0qVMfGhSiJCWNTTXpvX2mRIDWSeEZjYM+BJQiy/2PgLYC/hJXiITyZ05qKoG4N/Dy0d9KXQQXXXxweftAjxBgN7Gn37yGX//6yR22X0ndt6tgnlz5/Pk41O48Zrb+eTjzwoay3K3/I3bp964ZUFXmgPlJVWlwMsE6CX9h9//kT59+3DwYV/jgK/vzeuvNnHjtbfz0oszCx0KwCchViqSra6UEPYFLsOPKbUM+A9wiHPutXwEJpJD9fiOJUHNf2s289+aHWr1y/EXc3H0EoEa4y+Y38plF/w2xKo78lzoALppNgHa8AIsW7aM3191C7+/6pYQq2/vhdABiKxO1mX5zrkPnHO7OOeGOueGOed2c84FKXdfk6OPPpqjjz46dBhSJIaXj3ofmB86jsDmAc+HDqI76ptqFgJpr2NfAPwrdBDdEY271xg6jsCWEN8LMkmJRI5D+PWvfz10CFJ8XgCqQwcRUB9geuggeuA5YPPQQQS0lHjvv1pgZwKNB1oEFgB1oYMQWZ1EHpxz5sxhzpw5a55R0qQWf5WeVg5oDh1ED0zB/6im1UB81Xlc/RtfSp1WA4l3Qi8pkMgSwrPOOgvQOISykjp8QrF26EACeWV4+ah4jmzs1ZHujkH/q2+qWRQ6iB6oI6G/N1ma29Bc+0HoIERWJ5ElhCIdmEYRdCwJZDFQlO19u+AloF/oIAJZBsR9BOzZpPeWbQ54NnQQImuihFBSYXj5qA/xP6pxLiXrruXAraGD6ImoY8l9pLOUcBFwQ+ggeiLqWPIH/LakzTzgd6GDEFkTJYSSJr8hnb2Nnx1ePmp26CBy4FrSWco0q76p5sXQQeTAjaTzgmwu8GToIETWRAmhpMlTpG9w2Ln4RDj26ptqZgCvh46jwOYCV4YOIhcammv/h+8clKakcAFwdUNzbcHvlCTSVYlMCE844QROOOGE0GFIkYk6VVxNukoJW4HHQweRQ1fik6Q0eTB0ADmUtlL6XsCdoYMQyUYiE8Lq6mqqq9M85Jysxl0k9HvfgQXAb4eXj0pS6cQE0lPCtBi4JWo/mRRPkJ6EfhkwoaG59uPQgYhkI5E/jLNmzWLWrFmhw5AiNLx81Cf4pDBJP7KdiX1nkvaioVeuJR1jEi4Dfh86iFyKqk5/STpKCReTkOp+SYdEJoQXXXQRF110UegwpHidS/JLKeYDpwwvH/VR6EDy4NfAeyS7pHA+cHF9U02cBxPvzB+A1/AJb1ItAK5vaK6N82DikjJ5Hyh08333y/cqRLpkePmouS0NdUcBfwMGhY4nD5bg7wxxd+hA8qG+qWZRZWn1Yfh7+w4MHU8eLMd3nrk2dCD50NBcu7y8pOoIYAbJ3H8OeB/4WehARLoikSWEImsyvHzUE8D9JLPqeBHwnZjfmWS16ptqpgPjSGbV8SLg8PqmmsSWoDU01/4X+CnJrDpeCBzW0FybxjEXJcaUEEqa/Rj4LHQQOdZWVZyGm3lfTPKqjtuqil8LHUgBXEfyqo7bqorrQgci0lVKCCW1hpePmgscRXJKmRYBz5PQquL2og4mh5GcUt4lJLiquL2og8nhJOfuJcvwFyiqKpZYMufyfnFd8Kv3KVOmALDHHnsUetU9YaEDSKuWhrrTgV8R7/aES4Am4EtRT+rUqCyt/g6+o0Kc919bMrFzfVPNu6GDKaTykqqD8M034rz/HNAC7NLQXNsUOhiR7khkQhhTSggDammouxQ4ExgcOpZuWAa8A+w8vHzU+6GDCaGytPpU/BAfcUwqHPARMCqhvYrXqLyk6kjgNuK5/8A3Pdm9obm2MXQgIt2VyCrjxsZGGht1XEqX/By4ifhVHy8B3gW+nNZkEKC+qeZ64BfEb/8txSeDe6Y1GQRoaK79M3Aa/s46ceLwyeA+SgYl7hJZQjh27FgAxo8fX+hV94RKCItAS0PdhcBFxKOkYhHwP2DP4eWj3gsdTDGoLK0+Cd8GLw77bwnwAfCV+qaa2YFjKQrlJVWH4geOj8P+W4a/N/peSgYlCRJZQijSXcPLR10O/ARfUlHMvR/nA3X4NoNKBiP1TTU3A9/Dfz5LA4ezOvOBmfg2g7MDx1I0GpprHwS+hS91Wxw4nNVZAMzGtxlUMiiJkPcSwllPTCp4CeGZV18DwG/PPivr9xTBANoqISwiLQ11W+Ebum9FcbUrXIovGTwb+EOSxxrsicrS6s2Ae4BKimv/Lcfvv18AVyd5rMGeKC+p2gC4A6iiuPafw/dqvxb4RUNzbTEnrSJdkvc7lYjE0fDyUf9taagbBZyOv/dqP6B30KB8qVIDMHZ4+ajUtjfLRn1TzZuVpdVVwPfx4931J/z5bj4wCz/o9H8Cx1LUGppr3wcOKi+pOhy4BRiAPwZDWoDvvHVYQ3PtC4FjEck5VRmLdGJ4+ahlw8tHXQNUAC8B8wKFsgifTJwNfEXJYHbqm2pcfVPNrcC2wLOE23+L8U0QfgnspGQwew3NtW2l9E/gj4EQJeJL8fvvOqBMyaAkVSKrjF954w0Atttii6zfoypjWZ2WhrrewLeBc4HtgL7kv8RpLv4H8CZg3PDyUW/neX2JVVlabcBBwHnAKPzFcL5LnObhj+vbgOvqm2o0Pl0PlJdUVeOPv72iSQPyvMp5+FqBe4BrGpprlchLoiUyIewOJYSSrZaGujJ8VfLR+DZhQ3K4+KX4EqXX8OPq/WV4+Si1U8qhytLqLfBDnHw/mpTL/beMFb2/rwTuq2+qidtQKkWtvKRqM+Bk4Ef4xH5oDhe/HF81/AFwFXBPQ3Pt3BwuX6RoJTIhVAmhFEJLQ90QfFJ4LLAD/sdpCT7ByLY5xgJ8EjgQeBNfNXb98PJRL+U6XllZZWn1QPyt044HdsSXGC7C779s24u24vf5IOBtoBa4vr6pZlqu45WVlZdU9QMOAU7Cdx4ahO/wMZjsS+8XRe8ZBLwPTAGuB55paK6NRWGGSK4kMiFUL2MptJaGOgO+AOwM7Iqv1toGn+j1xScYDp88tA0m/Rz+B2g68NLw8lFJuSdv7ERVyhvj998u+N6t27Fi//Vh5f33If6+0f/C778Z9U01cRsUO1HKS6o2xO+/UcBo/EXaYFYcf+AvvpbgbzM3DXgav/9eVEmgpF3oXnciiRAN/9IcPf7S/vWWhrpew8tHLS94YJKV+qYahy/hext4uP3rlaXVvQAXzSdFqKG59j1gYvS4NPO18pIqi+bR/hPphBJCkQJQMhhv9U012n8xpkRQZM007IyIiIhIyikhFBEREUm5RFYZ/+iIw0OHICIiIhIbiUwIt9xss9AhiIiIiMRGIquMpzfOZHrjzNBhiIiIiMRClxNCMzvSzGaa2Xwze8PM9sxHYD1xz8SJ3DNxYugwRERERGKhS1XGZrYf/nZMRwD/BjbKR1AiIiIiUjhdbUP4C+BS59xz0f9v5zgeERERESmwrKuMzaw3/pZA65vZ62b2lpldb2YD8xeeiIiIiORbV9oQboi/J+ShwJ74m8HvBPy0/YxmdpKZ1ZlZ3fhHH81FnCIiIiKSJ+Zcdnf0MbN18DcEP9Y5d1c0bQzwU+fcTp29b9YTkwp+y6A3330XgM1GjMj6PZvvu1++wsmWhQ5ARERE0inrNoTOuY/N7C0gM8EryvtDdiURFBEREUm7rg47cwdwmpltEJUYngH8Pfdh9cyzM2bw7IwZocMQERERiYWu9jL+JbAe8BqwELgf+FWug+qpByY9AcDuFRWBIxEREREpfl1KCJ1zS4AfRQ8RERERSYBE3rpORERERLKnhFBEREQk5ZQQioiIiKRcVzuVxML5xx8XOgQRERGR2EhkQrjB8OGhQxARERGJjURWGT81bRpPTZsWOgwRERGRWEhkCeEjtU8DsPcuuwSORERERKT4JbKEUERERESyp4RQREREJOWUEIqIiIiknBJCERERkZRLZKeSn//gB6FDEBEREYkNc87lex15X0FCWOgAREREJJ0SWWX84IMP8uCDD4YOQ0RERCQWEpkQTpgwgQkTJoQOQ0RERCQWEpkQioiIiEj2lBCKiIiIpJwSQhEREZGUU0IoIiIiknKJHHamtbUVgIEDBxZ61T2hYWdEREQkiEQmhDGlhFBERESCSGSV8d13383dd98dOgwRERGRWEhkQjhx4kQmTpwYOgwRERGRWEhkQigiIiIi2VNCKCIiIpJySghFREREUk4JoYiIiEjK5X3YGTM7yTl3c15XUkTrzVaxxyciIiLpUYgSwpMKsI5iWm+2ij0+ERERSQlVGYuIiIiknBJCERERkZQrREIYqp1csbfPK/b4REREJCUKcS9jERERESliqjIWERERSTklhCIiIiIp16OE0MwOMLNXzex1Mzu/g9f7m9l90evPm9nIjNcuiKa/amZf7cI6NzOzp8ys0cxeMbOfdDDPNmb2rJktMrOzM6YPMLN/m9mM6L2/6MZmZxtnbzN7wcz+3sFrJWZWY2YNZjbZzDbNeG2Zmb0YPR7OV3wiIiIibfp0941m1hu4AdgPeAuYZmYPO+caM2b7PvCxc25LMzsSuBI4wszKgCOB7YCNgSfMbGvn3LIsVr0UOMs5V29mQ4HpZjap3XpbgB8Dh7R77yJgH+fcPDPrC0wxs8ecc891dfuz8BNgJrBWB69dDfzROXeXme0D/Bo4Jnqt1Tm3Yx7iEREREelQT0oIdwVed87Ncs4tBv4MHNxunoOBu6LnDwLVZmbR9D875xY555qA16PlrZFz7h3nXH30fC4+6dqk3TzvO+emAUvaTXfOuXnRv32jR8571UQlfgcBt3YySxnwZPT8KVb93EREREQKpicJ4SbAmxn/v0W7xCxzHufcUuBTYN0s37tGURX0TsDzXXhPbzN7EXgfmOScy/q9XXAdcC6wvJPXZwDfjp5/CxhqZutG/w8wszoze87MDslDbCIiIiIriW2nEjMbAkwATnfOfZbt+5xzy6Iq2U2BXc1s+xzH9XXgfefc9NXMdjZQZWYvAFXA20BbdXmJc24UcBRwnZltkcv4RERERNrrSUL4NrBZxv+bRtM6nMfM+gBrAx9l+d5ORe3/JgD3OOf+0uXIAefcJ/jq2gO68/7V+ArwTTObja9G38fM/tRu3XOcc992zu0EXJQRD865t6O/s4DJ+BJQERERkbzpSUI4DdjKzErNrB++k0j7XrEPA9+Lnh8KPOn8SNgPA0dGvZBLga2Af2ez0qgN4m3ATOfcb7sSsJmtb2bDoucD8R1i/tOVZayJc+4C59ymzrmR+M/kSefcd9rFsZ6ZtX32FwC3R9PXMbP+bfPgk8vMzjIiIiIiOdftXsbOuaVmdirwONAbuN0594qZXQrUOecexidud5vZ6/iev0dG733FzO7HJztLgVOy7GEMPkk6BngpagsIcCHwhWjZ/2dmI4A6fA/f5WZ2Or4jx0bAXVEP6V7A/c65VYaFyYd2n8to4Ndm5oCngVOi2bYF/mBmy6P4rmjXe1pEREQk53TrOhEREZGUi22nEhERERHJDSWEIiIiIimnhFBEREQk5ZQQioiIiKScEkIRERGRlFNCKCIiIpJySghFREREUk4JoYiIiEjKKSEUERERSTklhCIiIiIpp4RQREREJOWUEIqIiIiknBJCERERkZRTQigiIiKSckoIRURERFJOCaGIiIhIyikhFBEREUk5JYSSNTMrM7M6M7NuvPc0M7tyNa+PNDNnZvPM7KSeRZpsZtY/+pyWmNlloeMRkXjQObx4mNkbZrbYzP4UOpY2qU8IzWy2me3bbtqxZjYlVEz5YGaX5OCL90vgaueci5Z5nZl9bGbPmtmmGes6ysx+3+69twBHm9kGa1jHMOfcze1iLzWz5WZ2Uw/jzzszO8PM3jWzz8zsdjPr38l8/czswej758xsdLvXL4kSvnkZj80BnHOLnHNDgHvyvkEiPRSdD+qi7/A7ZvaYme0RvXZJ9P0/PGP+PtG0kRnTvmxmT5rZXDP71MweMbOy6LWjM46R1uhc8flxU/ANzhOdwwsj23N4NO/hZjYz+l42mtkhncxXE32n+7RNc85tAVye+y3ovtQnhPlmZr3b/d+ns3k7ef8a5+/qMrvDzDYC9gYeiv7fFdgZGAFMAc6Ppq8NnAP8NPP9zrmFwGPAd7ux+u8CHwNHrO7gDM3Mvor/HKqBEmBz4BerecsU4DvAu528fp9zbkjGY1ZOAxbJMzM7E7gO/8O3IfAF4Ebg4IzZWoBftD9XZixjd+CfwN+AjYFSYAbwjJlt7py7p+0YAb4GzMk8bnKwDTqHo3N4B/NuAvwJOBNYC/+Z3ds+YTazo4G+eQw7Z5QQdoOZbWNmk8ysxcxebXd1e6eZ3WRmE81sPrB3VAp0npk1APOjK+BvmtkrZvaJmU02s20zlrHK/B3E4MzsFDP7L/DfaNrvzOzN6MpmupntGU0/ALgQfzDOM7MZ0fS1zey26Kr9bTO7rLOTMrAfUB+dFMCflKc45xYBNfgDB+BXwG+cc591sIzJwEFZfcgrttPwJ5OfAkuAb0TTjzCzunbznmFmD0fP141KET4zs2nRtuW71Pd7wG3OuVeccx/jr8aP7WhG59xi59x1zrkpwLI8xyVScFFicSlwinPuL865+c65Jc65R5xz52TM+g9gMf7iqCNXAX90zv3OOTfXOdfinPsp8BxwSTdj0zlc5/COZH0OBzYFPnHOPea8R4H5wBZtM0THwM+Bc/Mbdm4oIewiMxsMTALuBTYAjgRutKj6InIU/qAair/yAhiLP5CG4Q+88cDpwPrAROARM+uXsYzP53fOLe0knEOALwFt654G7AgMj+J7wMwGOOf+gb9CbytxqojmvxNYCmwJ7ATsD5zQybp2AF7N+P8VYE8zG4i/mnrFzEYBX3TO3dvJMmYCFZ281pk98Afen4H78QcswCPAF81sq4x5j8JvN8AN+INzRPSe75ElM9sjOsl39tijk7duhy+5aDMD2NDM1s123e18I/rBesXMTu7mMkRC2R0YAPx1DfM54GfAz81spZIUMxsEfBl4oIP33Y9PcrpE5/DP6Ry+qq6cw+uAmdGFQW/z1cWLgIaMeS4HbqLzWqDi4pxL9QOYDcwDPsl4LMBfOXU0/xHAv9pN+wPw8+j5nfir2fbrOD7j/58B92f83wt4Gxjd0fydxOGAfdYwz8dARfT8EuBPGa9tiP/yDsyYNhZ4qpNl3QJc0W7aGfgD5j78SXEqsC3wY+BpfBu3YRnzbwUs62T5I6Nt6tNu+q3AQ9Hz3fFXmBtE//8JuDhj2XOBQUDvaL4vZiznss72aQ6/S28AB2T83zfappFreN9bbfs+Y1oZvnqsN/4H8R1gbLt57gQuK/Qxo4ce2TyAo4F31zDP5+cl4HngZKBP23GDTyQcsE0H7z0AWNJu2mjgrTWsU+fwFdN0Dl851i6dw4Hv4/OHpfi84aCM10YBL0bf584+m5X2aeiHSgi9Q5xzw9oewI9WM28J8KXMqw38iW9ExjxvdvC+zGkbA81t/zjnlkevb7KGZaxumZjZ2eYbuH4axbU2sN5qtqMv8E7GdvwBf8XckY/xV8ufc85d65yrcM4dARyOP4H0Ak7CX3HOJGqXEhkKfJrFdrVtz0DgMKLOE865Z4H/4a8iwV9Jjo2eH4U/6SzAn9j6sPLnk83n2VPz8G1J2rQ9n9vVBTnnGp1zc5xzy5xzU4HfAYfmIEaRQvkIWK+j6tJO/BS4CF+q2OZjYDmwUQfzbwR82I24dA5fEbfO4SvL+hxuvjPqVfiLkH5AFXCrme1oZr3wbWV/4jovHS46Sgi77k2gNjOBdL4IP7NKz3Xwvsxpc/AHM/B5G4vN8FeYq1tGp8uM2pqciz+o14kS208Baz9vxnYsAtbL2I61nHPbdbKuBmDrjl4wsw3xJ5BLge2BBufcEnz1R3nGrNuycnH8mnwLf0DeaL7X17v4E25b1cEkYH0z2xF/UmmravgAf8W2acayNst2pWa2p63cu7f9Y89O3voKK1enVADvOec+ynbdq+FYsS9F4uBZ/DnmkGxmds5NAl4n44LcOTc/Ws5hHbzlcHzbt67SObwdncM/15Vz+I7A0865OufccufcNHwp977RNo8C7ou2eVr0nrdWs+7glBB23d+Brc3sGDPrGz12sYwGxVm4HzjIzKqjNjNn4Q/sqT2Iayj+APoA6GNmF7Pylc57wMjoygXn3Dv4nnvXmNlaZtbLzLYws6pOlj8JqDSzAR289lvgkujKrgnYxcyG4K+cMnvGVuF7qWXre8Dt+LYvO0aPrwAVZrZDdMJ6APgNvs3NpGjblgF/AS4xs0Fmtg1d6BnnnPuXW7l3b/vHvzp56x+B75sf62sYvsTjzs7WY348wbbPs5+ZDYh+WDCzg81sHfN2xVfh/C3bbRAJzTn3KXAxcIOZHRIdi33N7GtmdlUnb7uIVRvgnw98z8x+bGZDo+PiMnz14+p68XdG5/BV6RzudeUcPg3fBnNHADPbCdgTn3h/ii9FbtvmA6P37IxPGouSEsIucs7NxTfcPRJ/lfgucCWQdVd659yr+B514/BVHt8AvuGcW9yD0B7H99Z7DV+VsZCVi9jbGmV/ZGb10fPv4ou6G/HVCQ/ScdUMzrn3gCdZebgIzGwffBuTv0bz/Rt4NFr33sAV0XwD8AfFXdlsjPku/dXAdc65dzMe06PtbLvCvBd/RfZAu6L5U/HVLe8Cd+MbgC/KWP4r5ocDyBnnG35fBTyFrxZpxvcw62ydrwKt+Cvmx6PnbaUOR+JLS+biT1JXOuey+uxEioVz7hr8sBw/xSc6b+KPzYc6mf8Z4N/tpk0Bvgp8G9+WthnfgWIP59x/uxGTzuEZdA5foSvncOdcLb4N4INmNheYAFzunPun8z7fZvx3H3xpY0++I3llzmVTqi3iR7nHnwx2dV384pjZacBmzrkOu9+bWQk+QVoInOOcu6Wn8bZb/pXACOdc1j3VipX5cbzew7cfuso5151SEhFJGZ3Di4eZvYovDLjfOXd86HhACaEkVFTF0A94CdgFPyzECc65h0LGJSIia6ZzeOHlfXR0kUCG4qsYNsaXpl2D2uCJiMSFzuEFphJCERERkZRTpxIRERGRlFNCKCIiIpJyeW9DOHTgcLds+ZLovxXj6n7+zDqYlvGfrfKiZTVf+7lWmdtWmr2TZWeG19FaV8zU2YjBtvJCOpyvfUwdzWcdB7zq8sw6nG6dBGidrHTV5a669zr5aNp9NitPWfW1ztfXQYQrvdb5ezp4V2f/dhJQZ9u28gzW6fasNNk6ebGjmLL6UDs+fjqeN2ObVv1SZbmuzj7wbGIwZjTOfNw5d0An75YC0zmZ1WxjxzF1NJ/Oyau+lvdzcgHPx6uuM/nn5LwnhMuWL2GrjXb2YVgverV9cc3oZb2wzw8W//+K19qm92r3f2fzrby8Xmaff2jZztfLrIN5O1uGrbyMlV5jpfd8Ph/t38NKMazutRVxkOUyVszn41gRkxkrbctKy2i3nvbvy5zPOn1t5emZy+xoO9qed7S8VeJt/75ea14G7ber1+rX1fY82mmrxNn2HLNV1p/5GmSsq8OYV5zRrS3GXu3+9zvp8/fQ7jOlV7v5MmJitcsw6CSOladbJ+vqYD0Z25zxQbJuxS6d3XpLAtA5Wefk2J6T830+9jsgY93pOierylhEREQk5ZQQioiIiKScEkIRERGRlFNCKCIiIpJySghFREREUk4JoYiIiEjKKSEUERERSTklhCIiIiIpp4RQREREJOWUEIqIiIiknBJCERERkZRTQigiIiKSckoIRURERFJOCaGIiIhIyikhFBEREUk5JYQiIiIiKWfOufyuwOwfwHp5XUl46wEfhg4isLR/Btr+zrf/Q+fcAYUMRjqXoHNyGo45bWNyFNN2dnhOzntCmAZmVuecGxU6jpDS/hlo+9O9/VJ4afjOaRuTIw7bqSpjERERkZRTQigiIiKSckoIc+Pm0AEUgbR/Btp+kcJKw3dO25gcRb+dakMoIiIiknIqIRQRERFJOSWEXWBmB5jZq2b2upmd38HrZ5pZo5k1mFmNmZWEiDNf1rT9GfONMTNnZkXdo6o7svkMzOzw6HvwipndW+gY8ymLY+ALZvaUmb0QHQcHhohT4iuL79i1ZvZi9HjNzD7JeG1ZxmsPFzTwLjCz283sfTN7uZPXzcx+H30GDWZWmfHa98zsv9Hje4WLumuy2Majo217ycymmllFxmuzo+kvmlld4aLuuiy2c7SZfZrxvbw447WsflMLxjmnRxYPoDfwBrA50A+YAZS1m2dvYFD0/GTgvtBxF3L7o/mGAk8DzwGjQscd4DuwFfACsE70/wah4y7w9t8MnBw9LwNmh45bj/g8sj3PZMx/GnB7xv/zQm9Dltu5F1AJvNzJ6wcCjwEG7AY8H00fDsyK/q4TPV8n9PZ0cxu/nHGe/FrbNkb/zwbWC70NOdrO0cDfO5jepe96IR4qIczersDrzrlZzrnFwJ+BgzNncM495ZxbEP37HLBpgWPMpzVuf+SXwJXAwkIGVyDZfAYnAjc45z4GcM69X+AY8ymb7XfAWtHztYE5BYxP4i/b80ybscD4gkSWQ865p4GW1cxyMPBH5z0HDDOzjYCvApOccy3ROWYSUJSDvq9pG51zU9vOk8T49zKLfdmZrn7X804JYfY2Ad7M+P+taFpnvo+/wkuKNW5/VK2xmXPu0UIGVkDZfAe2BrY2s2fM7DkzK8qTdTdls/2XAN8xs7eAifgSHJFsZX2ejZrklAJPZkweYGZ10bF3SN6izL/OPoeu/g7FRfvfSwf808ymm9lJgWLKpd3NbIaZPWZm20XTim5f9gm58qQys+8Ao4Cq0LEUipn1An4LHBs4lND64KuNR+OveJ82sx2cc5+EDKqAxgJ3OueuMbPdgbvNbHvn3PLQgUniHAk86JxbljGtxDn3tpltDjxpZi85594IFJ9kwcz2xieEe2RM3iPajxsAk8zsP1FJXBzV47+X86I21Q/hfyOKjkoIs/c2sFnG/5tG01ZiZvsCFwHfdM4tKlBshbCm7R8KbA9MNrPZ+HYvDyesY0k234G3gIedc0ucc03AaxTpwd8N2Wz/94H7AZxzzwIDSMZ9c6UwsjrPRo6kXXWxc+7t6O8sYDKwU+5DLIjOPoeufD5Fz8zKgVuBg51zH7VNz9iP7wN/xVevxpJz7jPn3Lzo+USgr5mtRxHuSyWE2ZsGbGVmpWbWD38yWqkXm5ntBPwBnwwmqe0YrGH7nXOfOufWc86NdM6NxLcJ+aZzrqh7iHXRGr8D+Ku/0QDRQb81vuF3EmSz/f8DqgHMbFt8QvhBQaOUOMvmO4aZbYPvVPFsxrR1zKx/9Hw94CtAY0Gizr2Hge9GvY13Az51zr0DPA7sH23rOsD+0bTYMbMvAH8BjnHOvZYxfbCZDW17jt/GDnvwxoGZjTAzi57vis+7PiLL73ohqco4S865pWZ2Kv7g643v2faKmV0K1DnnHgZ+AwwBHoj2//+cc98MFnQOZbn9iZblZ9B2wm4ElgHnZF75xlmW238WcIuZnYFvB3Ssi7rUiaxJF84zRwJ/bvfd2hb4g5ktx//oXuGcK8qE0MzG4y8c14va2/4c6AvgnPs/fPvbA4HXgQXAcdFrLWb2S3wyAXCpc647HRryLottvBhYF7gx+r1c6pwbBWwI/DWa1ge41zn3j4JvQJay2M5DgZPNbCnQChwZfW87/K4H2ITP6U4lIiIiIimnKmMRERGRlFNCKCIiIpJySghFREREUk4JoYiIiEjKKSEUERERSTklhCIiIiIpp4RQREREJOWUEIqIiIik3P8D/yAgCQ8vnOgAAAAASUVORK5CYII=\n",
          "text/plain": "<Figure size 792x648 with 5 Axes>"
         },
         "metadata": {},
         "output_type": "display_data"
        }
       ]
      }
     },
     "d5ca87a1bf39471087a80f7777b6f116": {
      "model_module": "@jupyter-widgets/base",
      "model_module_version": "1.2.0",
      "model_name": "LayoutModel",
      "state": {}
     },
     "d5d7b3fd9aa94970a539e211db49c0bd": {
      "model_module": "@jupyter-widgets/base",
      "model_module_version": "1.2.0",
      "model_name": "LayoutModel",
      "state": {
       "grid_gap": "0px 0px",
       "grid_template_areas": "\n                                                   \"top top top\"\n                                                   \"left middle right\"\n                                                   ",
       "grid_template_columns": "33% 33% 33%",
       "grid_template_rows": "auto auto"
      }
     },
     "d8e61a45f46d4de3b56c2347cda45a14": {
      "model_module": "@jupyter-widgets/controls",
      "model_module_version": "1.5.0",
      "model_name": "ButtonModel",
      "state": {
       "button_style": "primary",
       "description": "Clear",
       "layout": "IPY_MODEL_44cd3c23647044fb84a9545bb906f0da",
       "style": "IPY_MODEL_f02385bf2818403c98bd7ff7eeb85926"
      }
     },
     "d96e2fc7d4dc40d49e85f59afb6218de": {
      "model_module": "@jupyter-widgets/controls",
      "model_module_version": "1.5.0",
      "model_name": "TabModel",
      "state": {
       "layout": "IPY_MODEL_1ff4114426234be5a8bc1a74bdfa78b0"
      }
     },
     "daa3ac129db1417ba26d60f233d3b866": {
      "model_module": "@jupyter-widgets/controls",
      "model_module_version": "1.5.0",
      "model_name": "HTMLModel",
      "state": {
       "layout": "IPY_MODEL_8e34ae43442846989f268a15f1340ac4",
       "style": "IPY_MODEL_4b696bf8650f4a7388afe95b2ebb7cd0",
       "value": "ibm_oslo"
      }
     },
     "dbfa2a212b8b46a39fe6cc62e07538c6": {
      "model_module": "@jupyter-widgets/controls",
      "model_module_version": "1.5.0",
      "model_name": "HTMLModel",
      "state": {
       "layout": "IPY_MODEL_e43f9e4fc5ac498db7fcdde3941b7b87",
       "style": "IPY_MODEL_85dd424382df4373b1a80a14eab94aa3",
       "value": "<h5>Queue</h5>"
      }
     },
     "e43f9e4fc5ac498db7fcdde3941b7b87": {
      "model_module": "@jupyter-widgets/base",
      "model_module_version": "1.2.0",
      "model_name": "LayoutModel",
      "state": {
       "width": "70px"
      }
     },
     "e46efe18c18d4efaa18f9c5660b859cc": {
      "model_module": "@jupyter-widgets/controls",
      "model_module_version": "1.5.0",
      "model_name": "HTMLModel",
      "state": {
       "layout": "IPY_MODEL_9dbdddc162e0440fb7a183c840c5d1ca",
       "style": "IPY_MODEL_69535c2b7fd44f49b5e7f8d281a582b7",
       "value": "<h5>Job ID</h5>"
      }
     },
     "e7227104bfb54337a2862cbba8633a37": {
      "model_module": "@jupyter-widgets/controls",
      "model_module_version": "1.5.0",
      "model_name": "GridBoxModel",
      "state": {
       "children": [
        "IPY_MODEL_a24b9611654d432db1a2ac751eebbcd6",
        "IPY_MODEL_cbb76a2d5cf649d395d9a2396fe0dcac",
        "IPY_MODEL_3ed11d08aeb5496280c4e6501b64cb9b"
       ],
       "layout": "IPY_MODEL_704a215d1e3947908c7df297e56bcd61"
      }
     },
     "f02385bf2818403c98bd7ff7eeb85926": {
      "model_module": "@jupyter-widgets/controls",
      "model_module_version": "1.5.0",
      "model_name": "ButtonStyleModel",
      "state": {}
     },
     "f3d67876146a4220a402d87f44d3da67": {
      "model_module": "@jupyter-widgets/controls",
      "model_module_version": "1.5.0",
      "model_name": "HTMLModel",
      "state": {
       "layout": "IPY_MODEL_7b965c7d19fc44599c80f82b934491f5",
       "style": "IPY_MODEL_172fdeacc05d46deaaad521184ec9e63",
       "value": "job has successfully run"
      }
     },
     "f545b00199974752802e94755d6a9296": {
      "model_module": "@jupyter-widgets/base",
      "model_module_version": "1.2.0",
      "model_name": "LayoutModel",
      "state": {
       "grid_template_areas": "\n                                       \". . . . right \"\n                                        ",
       "grid_template_columns": "20% 20% 20% 20% 20%",
       "width": "100%"
      }
     },
     "f6705a908079458cb1fffd979e6b665c": {
      "model_module": "@jupyter-widgets/controls",
      "model_module_version": "1.5.0",
      "model_name": "HTMLModel",
      "state": {
       "layout": "IPY_MODEL_9fc8007179c04fb5a77417df58a12b80",
       "style": "IPY_MODEL_786566b5ef0f42feb7a2305caec77435",
       "value": "-"
      }
     },
     "f8d6990fb8c8485092cb6449612b1a92": {
      "model_module": "@jupyter-widgets/controls",
      "model_module_version": "1.5.0",
      "model_name": "HTMLModel",
      "state": {
       "layout": "IPY_MODEL_257a6e4728994bc499dda09ca4c1bf60",
       "style": "IPY_MODEL_a69acb9ec6f44eaf977d3c1c15d11d48",
       "value": "<table><style>\ntable {\n    border-collapse: collapse;\n    width: auto;\n}\n\nth, td {\n    text-align: left;\n    padding: 8px;\n}\n\ntr:nth-child(even) {background-color: #f6f6f6;};\n</style><tr><th></th><th>Type</th><th>Gate error</th></tr><tr><td><font style='font-weight:bold'>cx6_5</font></td><td>cx</td><td>0.00763</td></tr><tr><td><font style='font-weight:bold'>cx5_6</font></td><td>cx</td><td>0.00763</td></tr><tr><td><font style='font-weight:bold'>cx0_1</font></td><td>cx</td><td>0.00531</td></tr><tr><td><font style='font-weight:bold'>cx1_0</font></td><td>cx</td><td>0.00531</td></tr></table>"
      }
     },
     "fa49775ce17f4de680bfb3f0bd955f04": {
      "model_module": "@jupyter-widgets/controls",
      "model_module_version": "1.5.0",
      "model_name": "HTMLModel",
      "state": {
       "layout": "IPY_MODEL_b34a24ca803840b5b800211758e08c3f",
       "style": "IPY_MODEL_8e9105ac276c438db6f4932556bfeb89",
       "value": "<h5>Status</h5>"
      }
     },
     "fe54fa0e75164f858795aaf3730c364b": {
      "model_module": "@jupyter-widgets/base",
      "model_module_version": "1.2.0",
      "model_name": "LayoutModel",
      "state": {}
     },
     "fff339de6b3b4137bfc2cdb886676d33": {
      "model_module": "@jupyter-widgets/controls",
      "model_module_version": "1.5.0",
      "model_name": "ButtonStyleModel",
      "state": {
       "button_color": "white"
      }
     }
    },
    "version_major": 2,
    "version_minor": 0
   }
  }
 },
 "nbformat": 4,
 "nbformat_minor": 5
}
