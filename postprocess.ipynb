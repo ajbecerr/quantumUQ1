{
 "cells": [
  {
   "cell_type": "code",
   "execution_count": 1,
   "id": "e5cf6c9b-92bb-4087-888b-354cff55af65",
   "metadata": {},
   "outputs": [
    {
     "name": "stderr",
     "output_type": "stream",
     "text": [
      "<frozen importlib._bootstrap>:219: RuntimeWarning: scipy._lib.messagestream.MessageStream size changed, may indicate binary incompatibility. Expected 56 from C header, got 64 from PyObject\n"
     ]
    }
   ],
   "source": [
    "import numpy as np\n",
    "\n",
    "# Importing standard Qiskit libraries\n",
    "from qiskit import QuantumCircuit, transpile, Aer, IBMQ\n",
    "from qiskit.tools.jupyter import *\n",
    "from qiskit.visualization import *\n",
    "from ibm_quantum_widgets import *\n",
    "from qiskit.providers.aer import QasmSimulator\n",
    "from qiskit.quantum_info import Statevector\n",
    "\n",
    "# Loading your IBM Quantum account(s)\n",
    "provider = IBMQ.load_account()"
   ]
  },
  {
   "cell_type": "code",
   "execution_count": 2,
   "id": "0917008e-49c1-431a-ad73-13fcdeaf840a",
   "metadata": {},
   "outputs": [
    {
     "name": "stdout",
     "output_type": "stream",
     "text": [
      "0.2918931855403378\n",
      "0.3953772704130437\n",
      "\n",
      "\n",
      "0.0045483682351139445\n",
      "0.003926814040730919\n",
      "\n",
      "\n",
      "-0.002149567618303972\n"
     ]
    }
   ],
   "source": [
    "bitstrings = ['000', '001', '010', '011', '100', '101', '110', '111']\n",
    "counts = {'000': 196, '001': 316, '010': 308, '011': 220, '100': 97, '101': 254, '110': 117, '111': 492}\n",
    "probs = {}\n",
    "shots = 2000\n",
    "\n",
    "for output in bitstrings:\n",
    "    if output in counts:\n",
    "        probs[output] = counts[output]/shots\n",
    "    else:\n",
    "        probs[output] = 0\n",
    "\n",
    "mean_x = 2*np.sum(np.array([np.sqrt(probs[output]) for output in ['000', '010', '100', '110']]))**2\n",
    "mean_y = 2*np.sum(np.array([np.sqrt(probs[output]) for output in ['001', '011', '101', '111']]))**2\n",
    "mean_x = np.sqrt(mean_x/32)\n",
    "mean_y = np.sqrt(mean_y/32)\n",
    "\n",
    "output_pairs_x = [['000', '010'], ['000', '100'], ['000', '110'], ['010', '100'], ['010', '110'], ['100', '110']]\n",
    "output_pairs_y = [['001', '011'], ['001', '101'], ['001', '111'], ['011', '101'], ['011', '111'], ['101', '111']]\n",
    "\n",
    "var_x = (1/2)*(np.sum(np.array([(np.sqrt(probs[output[0]])-np.sqrt(probs[output[1]]))**2 for output in output_pairs_x])))\n",
    "var_y = (1/2)*(np.sum(np.array([(np.sqrt(probs[output[0]])-np.sqrt(probs[output[1]]))**2 for output in output_pairs_y])))\n",
    "var_x = var_x/8\n",
    "var_y = var_y/8\n",
    "\n",
    "cov = 2*(np.sum(np.array([(np.sqrt(probs[output_pairs_x[i][0]])-np.sqrt(probs[output_pairs_x[i][1]]))*(np.sqrt(probs[output_pairs_y[i][0]])-np.sqrt(probs[output_pairs_y[i][1]])) for i in range(6)])))\n",
    "cov = cov/32\n",
    "\n",
    "print(mean_x)\n",
    "print(mean_y)\n",
    "print('\\n')\n",
    "print(var_x)\n",
    "print(var_y)\n",
    "print('\\n')\n",
    "print(cov)"
   ]
  },
  {
   "cell_type": "code",
   "execution_count": null,
   "id": "8d9c2bb9-fcf9-440d-b749-3018ef3746a1",
   "metadata": {},
   "outputs": [],
   "source": []
  }
 ],
 "metadata": {
  "kernelspec": {
   "display_name": "Python 3 (ipykernel)",
   "language": "python",
   "name": "python3"
  },
  "language_info": {
   "codemirror_mode": {
    "name": "ipython",
    "version": 3
   },
   "file_extension": ".py",
   "mimetype": "text/x-python",
   "name": "python",
   "nbconvert_exporter": "python",
   "pygments_lexer": "ipython3",
   "version": "3.8.13"
  },
  "widgets": {
   "application/vnd.jupyter.widget-state+json": {
    "state": {
     "08762572135d442cbc5795e193d68ebb": {
      "model_module": "@jupyter-widgets/controls",
      "model_module_version": "1.5.0",
      "model_name": "HBoxModel",
      "state": {
       "children": [
        "IPY_MODEL_9a026304fc734d34817cf9c888ddb796",
        "IPY_MODEL_efe65559acd0417a87bc510abaf2cf31",
        "IPY_MODEL_cacb29cba9744b468f0cf22d28583358",
        "IPY_MODEL_09d6641ac92e469fbbfb8c426736aaea",
        "IPY_MODEL_689d0a1d50c840e7a42f1fed9c6b1565"
       ],
       "layout": "IPY_MODEL_d3c2cc9c0abd4b82b4636e545b22e462"
      }
     },
     "08b33343c093478b8af7807a406f9f69": {
      "model_module": "@jupyter-widgets/controls",
      "model_module_version": "1.5.0",
      "model_name": "GridBoxModel",
      "state": {
       "children": [
        "IPY_MODEL_92e985f4577e4122b67b2c45fa08b1b5"
       ],
       "layout": "IPY_MODEL_6e64ba0697a7431094321755651ff32b"
      }
     },
     "08ef17d7930d4ddcaebca799557daa68": {
      "model_module": "@jupyter-widgets/controls",
      "model_module_version": "1.5.0",
      "model_name": "DescriptionStyleModel",
      "state": {
       "description_width": ""
      }
     },
     "09d6641ac92e469fbbfb8c426736aaea": {
      "model_module": "@jupyter-widgets/controls",
      "model_module_version": "1.5.0",
      "model_name": "HTMLModel",
      "state": {
       "layout": "IPY_MODEL_910bced1e3d341d6af66cdcf90cd4af0",
       "style": "IPY_MODEL_7ad47ad85f9e40c3b3382d7f05e2b1db",
       "value": "<h5>Queue</h5>"
      }
     },
     "2f1980f8c7ec4ef89eab3a7bc075af74": {
      "model_module": "@jupyter-widgets/base",
      "model_module_version": "1.2.0",
      "model_name": "LayoutModel",
      "state": {
       "margin": "0px 0px 10px 0px"
      }
     },
     "388450bb316f425195261c6d29963f56": {
      "model_module": "@jupyter-widgets/controls",
      "model_module_version": "1.5.0",
      "model_name": "ButtonStyleModel",
      "state": {}
     },
     "3b1765020bfc496ba3777ee330fa396d": {
      "model_module": "@jupyter-widgets/base",
      "model_module_version": "1.2.0",
      "model_name": "LayoutModel",
      "state": {
       "width": "145px"
      }
     },
     "443a569cb0e54c04b369cc4d1af14b5c": {
      "model_module": "@jupyter-widgets/base",
      "model_module_version": "1.2.0",
      "model_name": "LayoutModel",
      "state": {}
     },
     "5aacd4280c5f43c692db80fa74684e16": {
      "model_module": "@jupyter-widgets/base",
      "model_module_version": "1.2.0",
      "model_name": "LayoutModel",
      "state": {
       "width": "190px"
      }
     },
     "66e8dbbafdb24208bcf0f2b9f0701bf5": {
      "model_module": "@jupyter-widgets/controls",
      "model_module_version": "1.5.0",
      "model_name": "HTMLModel",
      "state": {
       "layout": "IPY_MODEL_2f1980f8c7ec4ef89eab3a7bc075af74",
       "style": "IPY_MODEL_fecd42c25a3d4b9f9bdf736d23991aa1",
       "value": "<p style='font-family: IBM Plex Sans, Arial, Helvetica, sans-serif; font-size: 20px; font-weight: medium;'>Circuit Properties</p>"
      }
     },
     "689d0a1d50c840e7a42f1fed9c6b1565": {
      "model_module": "@jupyter-widgets/controls",
      "model_module_version": "1.5.0",
      "model_name": "HTMLModel",
      "state": {
       "layout": "IPY_MODEL_443a569cb0e54c04b369cc4d1af14b5c",
       "style": "IPY_MODEL_08ef17d7930d4ddcaebca799557daa68",
       "value": "<h5>Message</h5>"
      }
     },
     "6e64ba0697a7431094321755651ff32b": {
      "model_module": "@jupyter-widgets/base",
      "model_module_version": "1.2.0",
      "model_name": "LayoutModel",
      "state": {
       "grid_template_areas": "\n                                       \". . . . right \"\n                                        ",
       "grid_template_columns": "20% 20% 20% 20% 20%",
       "width": "100%"
      }
     },
     "7ad47ad85f9e40c3b3382d7f05e2b1db": {
      "model_module": "@jupyter-widgets/controls",
      "model_module_version": "1.5.0",
      "model_name": "DescriptionStyleModel",
      "state": {
       "description_width": ""
      }
     },
     "910bced1e3d341d6af66cdcf90cd4af0": {
      "model_module": "@jupyter-widgets/base",
      "model_module_version": "1.2.0",
      "model_name": "LayoutModel",
      "state": {
       "width": "70px"
      }
     },
     "92e985f4577e4122b67b2c45fa08b1b5": {
      "model_module": "@jupyter-widgets/controls",
      "model_module_version": "1.5.0",
      "model_name": "ButtonModel",
      "state": {
       "button_style": "primary",
       "description": "Clear",
       "layout": "IPY_MODEL_d23b3b6647934f808b11960ebf4a5bbf",
       "style": "IPY_MODEL_388450bb316f425195261c6d29963f56"
      }
     },
     "9a026304fc734d34817cf9c888ddb796": {
      "model_module": "@jupyter-widgets/controls",
      "model_module_version": "1.5.0",
      "model_name": "HTMLModel",
      "state": {
       "layout": "IPY_MODEL_5aacd4280c5f43c692db80fa74684e16",
       "style": "IPY_MODEL_b93e700585604b1094efe701d4d1805d",
       "value": "<h5>Job ID</h5>"
      }
     },
     "b1084e11520145a08208d65c6a67a6c0": {
      "model_module": "@jupyter-widgets/base",
      "model_module_version": "1.2.0",
      "model_name": "LayoutModel",
      "state": {
       "width": "95px"
      }
     },
     "b93e700585604b1094efe701d4d1805d": {
      "model_module": "@jupyter-widgets/controls",
      "model_module_version": "1.5.0",
      "model_name": "DescriptionStyleModel",
      "state": {
       "description_width": ""
      }
     },
     "cacb29cba9744b468f0cf22d28583358": {
      "model_module": "@jupyter-widgets/controls",
      "model_module_version": "1.5.0",
      "model_name": "HTMLModel",
      "state": {
       "layout": "IPY_MODEL_b1084e11520145a08208d65c6a67a6c0",
       "style": "IPY_MODEL_e60e149eb2d64509a044167c0b645c23",
       "value": "<h5>Status</h5>"
      }
     },
     "d23b3b6647934f808b11960ebf4a5bbf": {
      "model_module": "@jupyter-widgets/base",
      "model_module_version": "1.2.0",
      "model_name": "LayoutModel",
      "state": {
       "grid_area": "right",
       "padding": "0px 0px 0px 0px",
       "width": "70px"
      }
     },
     "d3c2cc9c0abd4b82b4636e545b22e462": {
      "model_module": "@jupyter-widgets/base",
      "model_module_version": "1.2.0",
      "model_name": "LayoutModel",
      "state": {
       "margin": "0px 0px 0px 37px",
       "width": "600px"
      }
     },
     "e12f2f9c51434621a4f7ab61e2839ce7": {
      "model_module": "@jupyter-widgets/controls",
      "model_module_version": "1.5.0",
      "model_name": "DescriptionStyleModel",
      "state": {
       "description_width": ""
      }
     },
     "e60e149eb2d64509a044167c0b645c23": {
      "model_module": "@jupyter-widgets/controls",
      "model_module_version": "1.5.0",
      "model_name": "DescriptionStyleModel",
      "state": {
       "description_width": ""
      }
     },
     "efe65559acd0417a87bc510abaf2cf31": {
      "model_module": "@jupyter-widgets/controls",
      "model_module_version": "1.5.0",
      "model_name": "HTMLModel",
      "state": {
       "layout": "IPY_MODEL_3b1765020bfc496ba3777ee330fa396d",
       "style": "IPY_MODEL_e12f2f9c51434621a4f7ab61e2839ce7",
       "value": "<h5>Backend</h5>"
      }
     },
     "fecd42c25a3d4b9f9bdf736d23991aa1": {
      "model_module": "@jupyter-widgets/controls",
      "model_module_version": "1.5.0",
      "model_name": "DescriptionStyleModel",
      "state": {
       "description_width": ""
      }
     }
    },
    "version_major": 2,
    "version_minor": 0
   }
  }
 },
 "nbformat": 4,
 "nbformat_minor": 5
}
